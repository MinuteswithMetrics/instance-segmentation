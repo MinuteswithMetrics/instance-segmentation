{
 "cells": [
  {
   "cell_type": "code",
   "execution_count": 56,
   "metadata": {},
   "outputs": [],
   "source": [
    "import cv2\n",
    "import numpy as np\n",
    "import matplotlib.pyplot as plt\n",
    "%matplotlib inline\n",
    "import pandas as pd\n",
    "import os\n",
    "from tqdm import tqdm"
   ]
  },
  {
   "cell_type": "code",
   "execution_count": 2,
   "metadata": {},
   "outputs": [],
   "source": [
    "color_img = cv2.imread(\"../dataset/DSB/train_color/091944f1d2611c916b98c020bd066667e33f4639159b2a92407fe5a40788856d/images/091944f1d2611c916b98c020bd066667e33f4639159b2a92407fe5a40788856d.png\")\n",
    "gray_img = cv2.imread(\"../dataset/DSB/train_gray/00071198d059ba7f5914a526d124d28e6d010c92466da21d4a04cd5413362552/images/00071198d059ba7f5914a526d124d28e6d010c92466da21d4a04cd5413362552.png\")\n",
    "he_img = cv2.imread(\"../dataset/DSB/extra_data/TCGA-21-5786-01Z-00-DX1/images/TCGA-21-5786-01Z-00-DX1.tif\")"
   ]
  },
  {
   "cell_type": "code",
   "execution_count": 14,
   "metadata": {},
   "outputs": [],
   "source": [
    "gray_dir = \"../dataset/DSB/train_gray/\"\n",
    "gray_list = os.listdir(gray_dir)\n",
    "cvt_gray_dir = \"../dataset/DSB/train_gray_cvt/\""
   ]
  },
  {
   "cell_type": "code",
   "execution_count": 16,
   "metadata": {},
   "outputs": [
    {
     "name": "stderr",
     "output_type": "stream",
     "text": [
      "100%|██████████| 541/541 [00:07<00:00, 75.17it/s]\n"
     ]
    }
   ],
   "source": [
    "for gray_file in tqdm(gray_list):\n",
    "    gray_path = gray_dir + gray_file + \"/images/\" + gray_file + \".png\"\n",
    "    img = cv2.imread(gray_path)\n",
    "    img = cv2.cvtColor(img, cv2.COLOR_BGR2GRAY)\n",
    "    save_path = cvt_gray_dir + gray_file + \"/images/\" + gray_file + \".png\"\n",
    "    cv2.imwrite(save_path, img)"
   ]
  },
  {
   "cell_type": "code",
   "execution_count": 22,
   "metadata": {},
   "outputs": [],
   "source": [
    "color_dir = \"../dataset/DSB/train_color/\"\n",
    "color_list = os.listdir(color_dir)\n",
    "cvt_color_dir = \"../dataset/DSB/train_color_cvt/\""
   ]
  },
  {
   "cell_type": "code",
   "execution_count": 23,
   "metadata": {},
   "outputs": [
    {
     "name": "stderr",
     "output_type": "stream",
     "text": [
      "100%|██████████| 123/123 [00:02<00:00, 45.70it/s]\n"
     ]
    }
   ],
   "source": [
    "for color_file in tqdm(color_list):\n",
    "    color_path = color_dir + color_file + \"/images/\" + color_file + \".png\"\n",
    "    img = cv2.imread(color_path)\n",
    "    img = cv2.cvtColor(img, cv2.COLOR_BGR2GRAY)\n",
    "    img = 255 - img\n",
    "    save_path = cvt_color_dir + color_file + \"/images/\" + color_file + \".png\"\n",
    "    cv2.imwrite(save_path, img)"
   ]
  },
  {
   "cell_type": "code",
   "execution_count": 47,
   "metadata": {},
   "outputs": [],
   "source": [
    "he_dir = \"../dataset/DSB/extra_data/\"\n",
    "he_list = os.listdir(he_dir)\n",
    "cvt_he_dir = \"../dataset/DSB/extra_data_cvt/\""
   ]
  },
  {
   "cell_type": "code",
   "execution_count": 48,
   "metadata": {},
   "outputs": [
    {
     "name": "stderr",
     "output_type": "stream",
     "text": [
      "100%|██████████| 30/30 [00:02<00:00, 10.31it/s]\n"
     ]
    }
   ],
   "source": [
    "for he_file in tqdm(he_list):\n",
    "    he_path = he_dir + he_file + \"/images/\" + he_file + \".tif\"\n",
    "    img = cv2.imread(he_path)\n",
    "    img = cv2.cvtColor(img, cv2.COLOR_BGR2GRAY)\n",
    "    img = 255 - img\n",
    "    save_path = cvt_he_dir + he_file + \"/images/\" + he_file + \".tif\"\n",
    "    cv2.imwrite(save_path, img)"
   ]
  },
  {
   "cell_type": "code",
   "execution_count": 74,
   "metadata": {},
   "outputs": [],
   "source": [
    "df = pd.read_csv(\"../dataset/DSB/share_train_df.csv\")"
   ]
  },
  {
   "cell_type": "code",
   "execution_count": 75,
   "metadata": {},
   "outputs": [],
   "source": [
    "gray_mosaics = np.unique(df[df.HSV_CLUSTER==1].mosaic_idx)\n",
    "color_mosaics = np.unique(df[df.HSV_CLUSTER!=1].mosaic_idx)"
   ]
  },
  {
   "cell_type": "code",
   "execution_count": 76,
   "metadata": {},
   "outputs": [],
   "source": [
    "mosaic_dir = \"../dataset/DSB/stage1_mosaic/mosaic_\"\n",
    "cvt_mosaic_dir = \"../dataset/DSB/mosaic_cvt/mosaic_\""
   ]
  },
  {
   "cell_type": "code",
   "execution_count": 77,
   "metadata": {},
   "outputs": [
    {
     "name": "stderr",
     "output_type": "stream",
     "text": [
      "100%|██████████| 385/385 [00:06<00:00, 56.17it/s]\n"
     ]
    }
   ],
   "source": [
    "for gray_mosaic in tqdm(gray_mosaics):\n",
    "    gray_mosaic_path = mosaic_dir + str(gray_mosaic) + \"/images/\" + str(gray_mosaic) + \".png\"\n",
    "    img = cv2.imread(gray_mosaic_path)\n",
    "    img = cv2.cvtColor(img, cv2.COLOR_BGR2GRAY)\n",
    "    save_path = cvt_mosaic_dir + str(gray_mosaic) + \"/images/\" + str(gray_mosaic) + \".png\"\n",
    "    cv2.imwrite(save_path, img)"
   ]
  },
  {
   "cell_type": "code",
   "execution_count": 78,
   "metadata": {},
   "outputs": [
    {
     "name": "stderr",
     "output_type": "stream",
     "text": [
      "100%|██████████| 51/51 [00:02<00:00, 23.14it/s]\n"
     ]
    }
   ],
   "source": [
    "for color_mosaic in tqdm(color_mosaics):\n",
    "    color_mosaic_path = mosaic_dir + str(color_mosaic) + \"/images/\" + str(color_mosaic) + \".png\"\n",
    "    img = cv2.imread(color_mosaic_path)\n",
    "    img = cv2.cvtColor(img, cv2.COLOR_BGR2GRAY)\n",
    "    img = 255 - img\n",
    "    save_path = cvt_mosaic_dir + str(color_mosaic) + \"/images/\" + str(color_mosaic) + \".png\"\n",
    "    cv2.imwrite(save_path, img)"
   ]
  },
  {
   "cell_type": "code",
   "execution_count": 79,
   "metadata": {},
   "outputs": [],
   "source": [
    "test_df = pd.read_csv(\"../dataset/DSB/share_test_df.csv\")"
   ]
  },
  {
   "cell_type": "code",
   "execution_count": 97,
   "metadata": {},
   "outputs": [],
   "source": [
    "gray_test = np.unique(test_df[test_df.HSV_CLUSTER==1].img_id)\n",
    "color_test = np.unique(test_df[test_df.HSV_CLUSTER!=1].img_id)"
   ]
  },
  {
   "cell_type": "code",
   "execution_count": 100,
   "metadata": {},
   "outputs": [],
   "source": [
    "test_dir = \"../dataset/DSB/stage1_test/\"\n",
    "cvt_test_dir = \"../dataset/DSB/stage1_test_cvt/\""
   ]
  },
  {
   "cell_type": "code",
   "execution_count": 103,
   "metadata": {},
   "outputs": [
    {
     "data": {
      "text/plain": [
       "array(['0f1f896d9ae5a04752d3239c690402c022db4d72c0d2c087d73380896f72c466',\n",
       "       '17b9bf4356db24967c4677b8376ac38f826de73a88b93a8d73a8b452e399cdff',\n",
       "       '1d9eacb3161f1e2b45550389ecf7c535c7199c6b44b1c6a46303f7b965e508f1',\n",
       "       '259b35151d4a7a5ffdd7ab7f171b142db8cfe40beeee67277fac6adca4d042c4',\n",
       "       '3c4c675825f7509877bc10497f498c9a2e3433bf922bd870914a2eb21a54fd26',\n",
       "       '44afae184c89e6ba55985b4d341acc1ae1e8b6ef96312064e0e6e630e022b078',\n",
       "       '472b1c5ff988dadc209faea92499bc07f305208dbda29d16262b3d543ac91c71',\n",
       "       '9f17aea854db13015d19b34cb2022cfdeda44133323fcd6bb3545f7b9404d8ab',\n",
       "       'b83d1d77935b6cfd44105b54600ffc4b6bd82de57dec65571bcb117fa8398ba3',\n",
       "       'c8e79ff4ac55f4b772057de28e539727b7f4f2a3de73bf7a082a0ace86d609eb',\n",
       "       'da6c593410340b19bb212b9f6d274f95b08c0fc8f2570cd66bc5ed42c560acab',\n",
       "       'f5effed21f671bbf4551ecebb7fe95f3be1cf09c16a60afe64d2f0b95be9d1eb'],\n",
       "      dtype=object)"
      ]
     },
     "execution_count": 103,
     "metadata": {},
     "output_type": "execute_result"
    }
   ],
   "source": [
    "color_test"
   ]
  },
  {
   "cell_type": "code",
   "execution_count": 101,
   "metadata": {},
   "outputs": [
    {
     "name": "stderr",
     "output_type": "stream",
     "text": [
      "100%|██████████| 53/53 [00:01<00:00, 48.06it/s]\n"
     ]
    }
   ],
   "source": [
    "for gray_test_id in tqdm(gray_test):\n",
    "    gray_test_path = test_dir + gray_test_id + \"/images/\" + gray_test_id + \".png\"\n",
    "    img = cv2.imread(gray_test_path)\n",
    "    img = cv2.cvtColor(img, cv2.COLOR_BGR2GRAY)\n",
    "    save_path = cvt_test_dir + gray_test_id + \"/images/\" + gray_test_id + \".png\"\n",
    "    cv2.imwrite(save_path, img)"
   ]
  },
  {
   "cell_type": "code",
   "execution_count": 102,
   "metadata": {},
   "outputs": [
    {
     "name": "stderr",
     "output_type": "stream",
     "text": [
      "100%|██████████| 12/12 [00:00<00:00, 25.52it/s]\n"
     ]
    }
   ],
   "source": [
    "for color_test_id in tqdm(color_test):\n",
    "    color_test_path = test_dir + color_test_id + \"/images/\" + color_test_id + \".png\"\n",
    "    img = cv2.imread(color_test_path)\n",
    "    img = cv2.cvtColor(img, cv2.COLOR_BGR2GRAY)\n",
    "    img = 255 - img\n",
    "    save_path = cvt_test_dir + color_test_id + \"/images/\" + color_test_id + \".png\"\n",
    "    cv2.imwrite(save_path, img)"
   ]
  }
 ],
 "metadata": {
  "kernelspec": {
   "display_name": "Python 3",
   "language": "python",
   "name": "python3"
  },
  "language_info": {
   "codemirror_mode": {
    "name": "ipython",
    "version": 3
   },
   "file_extension": ".py",
   "mimetype": "text/x-python",
   "name": "python",
   "nbconvert_exporter": "python",
   "pygments_lexer": "ipython3",
   "version": "3.6.3"
  }
 },
 "nbformat": 4,
 "nbformat_minor": 2
}
