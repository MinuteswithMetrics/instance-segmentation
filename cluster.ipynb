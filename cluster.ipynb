{
 "cells": [
  {
   "cell_type": "code",
   "execution_count": 1,
   "metadata": {},
   "outputs": [],
   "source": [
    "import os\n",
    "import cv2\n",
    "import pandas as pd\n",
    "import numpy as np\n",
    "import shutil\n",
    "from tqdm import tqdm"
   ]
  },
  {
   "cell_type": "code",
   "execution_count": 2,
   "metadata": {},
   "outputs": [],
   "source": [
    "df = pd.read_csv(\"../dataset/DSB/share_train_df.csv\")"
   ]
  },
  {
   "cell_type": "code",
   "execution_count": 3,
   "metadata": {},
   "outputs": [
    {
     "data": {
      "text/html": [
       "<div>\n",
       "<style scoped>\n",
       "    .dataframe tbody tr th:only-of-type {\n",
       "        vertical-align: middle;\n",
       "    }\n",
       "\n",
       "    .dataframe tbody tr th {\n",
       "        vertical-align: top;\n",
       "    }\n",
       "\n",
       "    .dataframe thead th {\n",
       "        text-align: right;\n",
       "    }\n",
       "</style>\n",
       "<table border=\"1\" class=\"dataframe\">\n",
       "  <thead>\n",
       "    <tr style=\"text-align: right;\">\n",
       "      <th></th>\n",
       "      <th>img_id</th>\n",
       "      <th>HSV_CLUSTER</th>\n",
       "      <th>mosaic_idx</th>\n",
       "      <th>mosaic_position</th>\n",
       "    </tr>\n",
       "  </thead>\n",
       "  <tbody>\n",
       "    <tr>\n",
       "      <th>0</th>\n",
       "      <td>55ff2b0ec48b76e10c7ee18add5794005cd551697f96af...</td>\n",
       "      <td>1</td>\n",
       "      <td>76</td>\n",
       "      <td>NaN</td>\n",
       "    </tr>\n",
       "    <tr>\n",
       "      <th>1</th>\n",
       "      <td>ae570a676961482848b5097038ef5e407df7a66a8e1c9b...</td>\n",
       "      <td>2</td>\n",
       "      <td>0</td>\n",
       "      <td>down_left</td>\n",
       "    </tr>\n",
       "    <tr>\n",
       "      <th>2</th>\n",
       "      <td>40bcdad218ac5f0885fc247d88fcad9f729f55c81c79d2...</td>\n",
       "      <td>1</td>\n",
       "      <td>77</td>\n",
       "      <td>NaN</td>\n",
       "    </tr>\n",
       "    <tr>\n",
       "      <th>3</th>\n",
       "      <td>337b6eed0726f07531cd467cd62b6676c31a8c9e716bdb...</td>\n",
       "      <td>2</td>\n",
       "      <td>1</td>\n",
       "      <td>down_right</td>\n",
       "    </tr>\n",
       "    <tr>\n",
       "      <th>4</th>\n",
       "      <td>da5f98f2b8a64eee735a398de48ed42cd31bf17a6063db...</td>\n",
       "      <td>1</td>\n",
       "      <td>78</td>\n",
       "      <td>NaN</td>\n",
       "    </tr>\n",
       "  </tbody>\n",
       "</table>\n",
       "</div>"
      ],
      "text/plain": [
       "                                              img_id  HSV_CLUSTER  mosaic_idx  \\\n",
       "0  55ff2b0ec48b76e10c7ee18add5794005cd551697f96af...            1          76   \n",
       "1  ae570a676961482848b5097038ef5e407df7a66a8e1c9b...            2           0   \n",
       "2  40bcdad218ac5f0885fc247d88fcad9f729f55c81c79d2...            1          77   \n",
       "3  337b6eed0726f07531cd467cd62b6676c31a8c9e716bdb...            2           1   \n",
       "4  da5f98f2b8a64eee735a398de48ed42cd31bf17a6063db...            1          78   \n",
       "\n",
       "  mosaic_position  \n",
       "0             NaN  \n",
       "1       down_left  \n",
       "2             NaN  \n",
       "3      down_right  \n",
       "4             NaN  "
      ]
     },
     "execution_count": 3,
     "metadata": {},
     "output_type": "execute_result"
    }
   ],
   "source": [
    "df.head()"
   ]
  },
  {
   "cell_type": "code",
   "execution_count": 4,
   "metadata": {},
   "outputs": [
    {
     "data": {
      "text/plain": [
       "HSV_CLUSTER\n",
       "0     16\n",
       "1    541\n",
       "2    107\n",
       "dtype: int64"
      ]
     },
     "execution_count": 4,
     "metadata": {},
     "output_type": "execute_result"
    }
   ],
   "source": [
    "df.groupby(\"HSV_CLUSTER\").size()"
   ]
  },
  {
   "cell_type": "code",
   "execution_count": 5,
   "metadata": {},
   "outputs": [
    {
     "name": "stderr",
     "output_type": "stream",
     "text": [
      "664it [00:54, 12.19it/s]\n"
     ]
    }
   ],
   "source": [
    "for i, row in tqdm(df.iterrows()):\n",
    "    path = \"../dataset/DSB/train_all/\" + row[\"img_id\"]\n",
    "    if os.path.exists(path):\n",
    "        if row[\"HSV_CLUSTER\"] == 1:\n",
    "            shutil.copytree(path, \"../dataset/DSB/train_gray/\" + row[\"img_id\"])\n",
    "        elif row[\"HSV_CLUSTER\"] == 0 or row[\"HSV_CLUSTER\"] == 2:\n",
    "            shutil.copytree(path, \"../dataset/DSB/train_color/\" + row[\"img_id\"])"
   ]
  }
 ],
 "metadata": {
  "kernelspec": {
   "display_name": "Python 3",
   "language": "python",
   "name": "python3"
  },
  "language_info": {
   "codemirror_mode": {
    "name": "ipython",
    "version": 3
   },
   "file_extension": ".py",
   "mimetype": "text/x-python",
   "name": "python",
   "nbconvert_exporter": "python",
   "pygments_lexer": "ipython3",
   "version": "3.6.3"
  }
 },
 "nbformat": 4,
 "nbformat_minor": 2
}
