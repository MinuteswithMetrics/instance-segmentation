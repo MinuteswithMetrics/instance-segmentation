{
 "cells": [
  {
   "cell_type": "code",
   "execution_count": 1,
   "metadata": {
    "collapsed": false
   },
   "outputs": [
    {
     "name": "stderr",
     "output_type": "stream",
     "text": [
      "Using TensorFlow backend.\n"
     ]
    }
   ],
   "source": [
    "import os\n",
    "import sys\n",
    "import random\n",
    "import math\n",
    "import time\n",
    "import numpy as np\n",
    "from tqdm import tqdm\n",
    "import pandas as pd\n",
    "from skimage.io import imread, imshow, imread_collection, concatenate_images\n",
    "from skimage.transform import resize\n",
    "from skimage.morphology import label\n",
    "%matplotlib inline\n",
    "import matplotlib\n",
    "import matplotlib.pyplot as plt\n",
    "\n",
    "from config import DSBConfig\n",
    "import utils\n",
    "from utils import DSBDataset\n",
    "import mask_rcnn as modellib\n",
    "import visualize\n",
    "from mask_rcnn import log\n",
    "\n",
    "os.environ[\"CUDA_DEVICE_ORDER\"] = \"PCI_BUS_ID\"\n",
    "os.environ[\"CUDA_VISIBLE_DEVICES\"] = \"0\""
   ]
  },
  {
   "cell_type": "code",
   "execution_count": 2,
   "metadata": {
    "collapsed": true
   },
   "outputs": [],
   "source": [
    "def rle_encoding(x):\n",
    "    '''\n",
    "    x: numpy array of shape (height, width), 1 - mask, 0 - background\n",
    "    Returns run length as list\n",
    "    '''\n",
    "    dots = np.where(x.T.flatten()==1)[0] # .T sets Fortran order down-then-right\n",
    "    run_lengths = []\n",
    "    prev = -2\n",
    "    for b in dots:\n",
    "        if (b > prev + 1): run_lengths.extend((b + 1, 0))\n",
    "        run_lengths[-1] += 1\n",
    "        prev = b\n",
    "    return run_lengths\n",
    "\n",
    "def prob_to_rles(x, cut_off = 0.5):\n",
    "    lab_img = label(x > cut_off)\n",
    "    if lab_img.max() < 1:\n",
    "        # ensure at least one prediction per image\n",
    "        lab_img[0,0] = 1\n",
    "    for i in range(1, lab_img.max() +1):\n",
    "        yield rle_encoding(lab_img==i)\n",
    "        \n",
    "def get_ax(rows=1, cols=1, size=8):\n",
    "    _, ax = plt.subplots(rows, cols, figsize=(size*cols, size*rows))\n",
    "    return ax\n",
    "\n",
    "def create_mask(prob_mask):\n",
    "    max_idx = np.argmax(prob_mask, axis=2)\n",
    "    h, w, counts = prob_mask.shape\n",
    "    mask = np.zeros((h, w, counts), dtype=np.uint8)\n",
    "    for i in range(h):\n",
    "        for j in range(w):\n",
    "            idx = max_idx[i, j]\n",
    "            if prob_mask[i, j, idx] == -1:\n",
    "                mask[i, j, idx] == 0\n",
    "            else:\n",
    "                mask[i, j, idx] = 1\n",
    "    return mask"
   ]
  },
  {
   "cell_type": "code",
   "execution_count": 3,
   "metadata": {
    "collapsed": true
   },
   "outputs": [],
   "source": [
    "# Root directory of the project\n",
    "ROOT_DIR = os.getcwd()\n",
    "\n",
    "# Directory to save logs and trained model\n",
    "MODEL_DIR = os.path.join(ROOT_DIR, \"logs\")\n",
    "# Get path to saved weights\n",
    "# Either set a specific path or find last trained weights\n",
    "# model_path = os.path.join(ROOT_DIR, \".h5 file name here\")\n",
    "model_path = \"./logs/dsb20180309T1156/mask_rcnn_dsb_0010.h5\"\n",
    "\n",
    "TEST_PATH = '../dataset/DSB/test/'"
   ]
  },
  {
   "cell_type": "code",
   "execution_count": 4,
   "metadata": {
    "collapsed": true
   },
   "outputs": [],
   "source": [
    "# Get train and test IDs\n",
    "test_ids = next(os.walk(TEST_PATH))[1]"
   ]
  },
  {
   "cell_type": "code",
   "execution_count": 5,
   "metadata": {
    "collapsed": false
   },
   "outputs": [
    {
     "name": "stdout",
     "output_type": "stream",
     "text": [
      "\n",
      "Configurations:\n",
      "BACKBONE_SHAPES                [[64 64]\n",
      " [32 32]\n",
      " [16 16]\n",
      " [ 8  8]\n",
      " [ 4  4]]\n",
      "BACKBONE_STRIDES               [4, 8, 16, 32, 64]\n",
      "BATCH_SIZE                     8\n",
      "BBOX_STD_DEV                   [ 0.1  0.1  0.2  0.2]\n",
      "DETECTION_MAX_INSTANCES        100\n",
      "DETECTION_MIN_CONFIDENCE       0.7\n",
      "DETECTION_NMS_THRESHOLD        0.3\n",
      "GPU_COUNT                      1\n",
      "IMAGES_PER_GPU                 8\n",
      "IMAGE_MAX_DIM                  320\n",
      "IMAGE_MIN_DIM                  256\n",
      "IMAGE_PADDING                  True\n",
      "IMAGE_SHAPE                    [256 256   3]\n",
      "LEARNING_MOMENTUM              0.9\n",
      "LEARNING_RATE                  0.001\n",
      "MASK_POOL_SIZE                 14\n",
      "MASK_SHAPE                     [28, 28]\n",
      "MAX_GT_INSTANCES               100\n",
      "MEAN_PIXEL                     [ 123.7  116.8  103.9]\n",
      "MINI_MASK_SHAPE                (56, 56)\n",
      "NAME                           DSB\n",
      "NUM_CLASSES                    2\n",
      "POOL_SIZE                      7\n",
      "POST_NMS_ROIS_INFERENCE        1000\n",
      "POST_NMS_ROIS_TRAINING         2000\n",
      "ROI_POSITIVE_RATIO             0.33\n",
      "RPN_ANCHOR_RATIOS              [0.5, 1, 2]\n",
      "RPN_ANCHOR_SCALES              (8, 16, 32, 64, 128)\n",
      "RPN_ANCHOR_STRIDE              1\n",
      "RPN_BBOX_STD_DEV               [ 0.1  0.1  0.2  0.2]\n",
      "RPN_NMS_THRESHOLD              0.7\n",
      "RPN_TRAIN_ANCHORS_PER_IMAGE    256\n",
      "STEPS_PER_EPOCH                1000\n",
      "TRAIN_ROIS_PER_IMAGE           200\n",
      "USE_MINI_MASK                  True\n",
      "USE_RPN_ROIS                   True\n",
      "VALIDATION_STEPS               50\n",
      "WEIGHT_DECAY                   0.0001\n",
      "\n",
      "\n"
     ]
    }
   ],
   "source": [
    "config = DSBConfig()\n",
    "config.IMAGE_MAX_DIM = 320\n",
    "\n",
    "class InferenceConfig(DSBConfig):\n",
    "    GPU_COUNT = 1\n",
    "    IMAGES_PER_GPU = 1\n",
    "    \n",
    "inference_config = InferenceConfig()\n",
    "\n",
    "config.display()"
   ]
  },
  {
   "cell_type": "code",
   "execution_count": 6,
   "metadata": {
    "collapsed": false
   },
   "outputs": [
    {
     "name": "stdout",
     "output_type": "stream",
     "text": [
      "Loading weights from  ./logs/dsb20180309T1156/mask_rcnn_dsb_0010.h5\n"
     ]
    }
   ],
   "source": [
    "# Recreate the model in inference mode\n",
    "model = modellib.MaskRCNN(\n",
    "    mode=\"inference\", \n",
    "    config=inference_config,\n",
    "    model_dir=MODEL_DIR)\n",
    "\n",
    "# Load trained weights (fill in path to trained weights here)\n",
    "assert model_path != \"\", \"Provide path to trained weights\"\n",
    "print(\"Loading weights from \", model_path)\n",
    "model.load_weights(model_path, by_name=True)"
   ]
  },
  {
   "cell_type": "code",
   "execution_count": 7,
   "metadata": {
    "collapsed": false
   },
   "outputs": [
    {
     "name": "stderr",
     "output_type": "stream",
     "text": [
      "\r",
      "  0%|          | 0/65 [00:00<?, ?it/s]"
     ]
    },
    {
     "name": "stdout",
     "output_type": "stream",
     "text": [
      "Processing 1 images\n",
      "image                    shape: (256, 256, 3)         min:    1.00000  max:   79.00000\n",
      "molded_images            shape: (1, 256, 256, 3)      min: -122.70000  max:  -24.90000\n",
      "image_metas              shape: (1, 10)               min:    0.00000  max:  256.00000\n"
     ]
    },
    {
     "name": "stderr",
     "output_type": "stream",
     "text": [
      "\r",
      "  2%|▏         | 1/65 [00:02<02:08,  2.01s/it]"
     ]
    },
    {
     "name": "stdout",
     "output_type": "stream",
     "text": [
      "Processing 1 images\n",
      "image                    shape: (256, 256, 3)         min:    9.00000  max:  255.00000\n",
      "molded_images            shape: (1, 256, 256, 3)      min: -114.70000  max:  151.10000\n",
      "image_metas              shape: (1, 10)               min:    0.00000  max:  256.00000\n"
     ]
    },
    {
     "name": "stderr",
     "output_type": "stream",
     "text": [
      "\r",
      "  3%|▎         | 2/65 [00:02<01:14,  1.18s/it]"
     ]
    },
    {
     "name": "stdout",
     "output_type": "stream",
     "text": [
      "Processing 1 images\n",
      "image                    shape: (256, 256, 3)         min:   10.00000  max:  255.00000\n",
      "molded_images            shape: (1, 256, 256, 3)      min: -113.70000  max:  151.10000\n",
      "image_metas              shape: (1, 10)               min:    0.00000  max:  256.00000\n"
     ]
    },
    {
     "name": "stderr",
     "output_type": "stream",
     "text": [
      "\r",
      "  5%|▍         | 3/65 [00:02<00:57,  1.07it/s]"
     ]
    },
    {
     "name": "stdout",
     "output_type": "stream",
     "text": [
      "Processing 1 images\n",
      "image                    shape: (512, 640, 3)         min:    0.00000  max:   76.00000\n",
      "molded_images            shape: (1, 256, 256, 3)      min: -123.70000  max:  -34.90000\n",
      "image_metas              shape: (1, 10)               min:    0.00000  max:  640.00000\n"
     ]
    },
    {
     "name": "stderr",
     "output_type": "stream",
     "text": [
      "\r",
      "  6%|▌         | 4/65 [00:03<01:00,  1.00it/s]"
     ]
    },
    {
     "name": "stdout",
     "output_type": "stream",
     "text": [
      "Processing 1 images\n",
      "image                    shape: (519, 162, 3)         min:    1.00000  max:  205.00000\n",
      "molded_images            shape: (1, 256, 256, 3)      min: -123.70000  max:   77.10000\n",
      "image_metas              shape: (1, 10)               min:    0.00000  max:  519.00000\n"
     ]
    },
    {
     "name": "stderr",
     "output_type": "stream",
     "text": [
      "\r",
      "  8%|▊         | 5/65 [00:04<00:58,  1.03it/s]"
     ]
    },
    {
     "name": "stdout",
     "output_type": "stream",
     "text": [
      "Processing 1 images\n",
      "image                    shape: (512, 640, 3)         min:    0.00000  max:  126.00000\n",
      "molded_images            shape: (1, 256, 256, 3)      min: -123.70000  max:    1.10000\n",
      "image_metas              shape: (1, 10)               min:    0.00000  max:  640.00000\n"
     ]
    },
    {
     "name": "stderr",
     "output_type": "stream",
     "text": [
      "\r",
      "  9%|▉         | 6/65 [00:06<01:03,  1.08s/it]"
     ]
    },
    {
     "name": "stdout",
     "output_type": "stream",
     "text": [
      "Processing 1 images\n",
      "image                    shape: (524, 348, 3)         min:    0.00000  max:  255.00000\n",
      "molded_images            shape: (1, 256, 256, 3)      min: -123.70000  max:  150.10000\n",
      "image_metas              shape: (1, 10)               min:    0.00000  max:  524.00000\n"
     ]
    },
    {
     "name": "stderr",
     "output_type": "stream",
     "text": [
      "\r",
      " 11%|█         | 7/65 [00:08<01:06,  1.15s/it]"
     ]
    },
    {
     "name": "stdout",
     "output_type": "stream",
     "text": [
      "Processing 1 images\n",
      "image                    shape: (256, 256, 3)         min:   10.00000  max:  255.00000\n",
      "molded_images            shape: (1, 256, 256, 3)      min: -113.70000  max:  151.10000\n",
      "image_metas              shape: (1, 10)               min:    0.00000  max:  256.00000\n"
     ]
    },
    {
     "name": "stderr",
     "output_type": "stream",
     "text": [
      "\r",
      " 12%|█▏        | 8/65 [00:08<01:00,  1.06s/it]"
     ]
    },
    {
     "name": "stdout",
     "output_type": "stream",
     "text": [
      "Processing 1 images\n",
      "image                    shape: (512, 680, 3)         min:    0.00000  max:  255.00000\n",
      "molded_images            shape: (1, 256, 256, 3)      min: -123.70000  max:  132.10000\n",
      "image_metas              shape: (1, 10)               min:    0.00000  max:  680.00000\n"
     ]
    },
    {
     "name": "stderr",
     "output_type": "stream",
     "text": [
      "\r",
      " 14%|█▍        | 9/65 [00:10<01:04,  1.15s/it]"
     ]
    },
    {
     "name": "stdout",
     "output_type": "stream",
     "text": [
      "Processing 1 images\n",
      "image                    shape: (524, 348, 3)         min:    0.00000  max:  255.00000\n",
      "molded_images            shape: (1, 256, 256, 3)      min: -123.70000  max:  150.10000\n",
      "image_metas              shape: (1, 10)               min:    0.00000  max:  524.00000\n"
     ]
    },
    {
     "name": "stderr",
     "output_type": "stream",
     "text": [
      "\r",
      " 15%|█▌        | 10/65 [00:12<01:11,  1.30s/it]"
     ]
    },
    {
     "name": "stdout",
     "output_type": "stream",
     "text": [
      "Processing 1 images\n",
      "image                    shape: (256, 256, 3)         min:   10.00000  max:  255.00000\n",
      "molded_images            shape: (1, 256, 256, 3)      min: -113.70000  max:  151.10000\n",
      "image_metas              shape: (1, 10)               min:    0.00000  max:  256.00000\n"
     ]
    },
    {
     "name": "stderr",
     "output_type": "stream",
     "text": [
      "\r",
      " 17%|█▋        | 11/65 [00:13<01:05,  1.21s/it]"
     ]
    },
    {
     "name": "stdout",
     "output_type": "stream",
     "text": [
      "Processing 1 images\n",
      "image                    shape: (256, 256, 3)         min:    0.00000  max:  255.00000\n",
      "molded_images            shape: (1, 256, 256, 3)      min: -123.70000  max:  151.10000\n",
      "image_metas              shape: (1, 10)               min:    0.00000  max:  256.00000\n"
     ]
    },
    {
     "name": "stderr",
     "output_type": "stream",
     "text": [
      "\r",
      " 18%|█▊        | 12/65 [00:14<01:02,  1.17s/it]"
     ]
    },
    {
     "name": "stdout",
     "output_type": "stream",
     "text": [
      "Processing 1 images\n",
      "image                    shape: (390, 239, 3)         min:    0.00000  max:   81.00000\n",
      "molded_images            shape: (1, 256, 256, 3)      min: -123.70000  max:  -26.90000\n",
      "image_metas              shape: (1, 10)               min:    0.00000  max:  390.00000\n"
     ]
    },
    {
     "name": "stderr",
     "output_type": "stream",
     "text": [
      "\r",
      " 20%|██        | 13/65 [00:15<01:02,  1.20s/it]"
     ]
    },
    {
     "name": "stdout",
     "output_type": "stream",
     "text": [
      "Processing 1 images\n",
      "image                    shape: (512, 640, 3)         min:    0.00000  max:  109.00000\n",
      "molded_images            shape: (1, 256, 256, 3)      min: -123.70000  max:  -16.90000\n",
      "image_metas              shape: (1, 10)               min:    0.00000  max:  640.00000\n"
     ]
    },
    {
     "name": "stderr",
     "output_type": "stream",
     "text": [
      "\r",
      " 22%|██▏       | 14/65 [00:16<01:00,  1.18s/it]"
     ]
    },
    {
     "name": "stdout",
     "output_type": "stream",
     "text": [
      "Processing 1 images\n",
      "image                    shape: (256, 256, 3)         min:    1.00000  max:  121.00000\n",
      "molded_images            shape: (1, 256, 256, 3)      min: -122.70000  max:   17.10000\n",
      "image_metas              shape: (1, 10)               min:    0.00000  max:  256.00000\n"
     ]
    },
    {
     "name": "stderr",
     "output_type": "stream",
     "text": [
      "\r",
      " 23%|██▎       | 15/65 [00:16<00:56,  1.13s/it]"
     ]
    },
    {
     "name": "stdout",
     "output_type": "stream",
     "text": [
      "Processing 1 images\n",
      "image                    shape: (260, 347, 3)         min:   26.00000  max:  255.00000\n",
      "molded_images            shape: (1, 256, 256, 3)      min: -123.70000  max:  151.10000\n",
      "image_metas              shape: (1, 10)               min:    0.00000  max:  347.00000\n"
     ]
    },
    {
     "name": "stderr",
     "output_type": "stream",
     "text": [
      "\r",
      " 25%|██▍       | 16/65 [00:18<00:56,  1.16s/it]"
     ]
    },
    {
     "name": "stdout",
     "output_type": "stream",
     "text": [
      "Processing 1 images\n",
      "image                    shape: (256, 256, 3)         min:    1.00000  max:   93.00000\n",
      "molded_images            shape: (1, 256, 256, 3)      min: -122.70000  max:  -10.90000\n",
      "image_metas              shape: (1, 10)               min:    0.00000  max:  256.00000\n"
     ]
    },
    {
     "name": "stderr",
     "output_type": "stream",
     "text": [
      "\r",
      " 26%|██▌       | 17/65 [00:18<00:53,  1.11s/it]"
     ]
    },
    {
     "name": "stdout",
     "output_type": "stream",
     "text": [
      "Processing 1 images\n",
      "image                    shape: (520, 348, 3)         min:    3.00000  max:  255.00000\n",
      "molded_images            shape: (1, 256, 256, 3)      min: -123.70000  max:  151.10000\n",
      "image_metas              shape: (1, 10)               min:    0.00000  max:  520.00000\n"
     ]
    },
    {
     "name": "stderr",
     "output_type": "stream",
     "text": [
      "\r",
      " 28%|██▊       | 18/65 [00:20<00:54,  1.16s/it]"
     ]
    },
    {
     "name": "stdout",
     "output_type": "stream",
     "text": [
      "Processing 1 images\n",
      "image                    shape: (256, 256, 3)         min:    0.00000  max:  255.00000\n",
      "molded_images            shape: (1, 256, 256, 3)      min: -123.70000  max:  151.10000\n",
      "image_metas              shape: (1, 10)               min:    0.00000  max:  256.00000\n"
     ]
    },
    {
     "name": "stderr",
     "output_type": "stream",
     "text": [
      "\r",
      " 29%|██▉       | 19/65 [00:21<00:52,  1.13s/it]"
     ]
    },
    {
     "name": "stdout",
     "output_type": "stream",
     "text": [
      "Processing 1 images\n",
      "image                    shape: (520, 348, 3)         min:    3.00000  max:  186.00000\n",
      "molded_images            shape: (1, 256, 256, 3)      min: -123.70000  max:   75.10000\n",
      "image_metas              shape: (1, 10)               min:    0.00000  max:  520.00000\n"
     ]
    },
    {
     "name": "stderr",
     "output_type": "stream",
     "text": [
      "\r",
      " 31%|███       | 20/65 [00:23<00:52,  1.16s/it]"
     ]
    },
    {
     "name": "stdout",
     "output_type": "stream",
     "text": [
      "Processing 1 images\n",
      "image                    shape: (512, 640, 3)         min:    0.00000  max:  177.00000\n",
      "molded_images            shape: (1, 256, 256, 3)      min: -123.70000  max:   39.10000\n",
      "image_metas              shape: (1, 10)               min:    0.00000  max:  640.00000\n"
     ]
    },
    {
     "name": "stderr",
     "output_type": "stream",
     "text": [
      "\r",
      " 32%|███▏      | 21/65 [00:24<00:52,  1.18s/it]"
     ]
    },
    {
     "name": "stdout",
     "output_type": "stream",
     "text": [
      "Processing 1 images\n",
      "image                    shape: (256, 256, 3)         min:   10.00000  max:  255.00000\n",
      "molded_images            shape: (1, 256, 256, 3)      min: -113.70000  max:  151.10000\n",
      "image_metas              shape: (1, 10)               min:    0.00000  max:  256.00000\n"
     ]
    },
    {
     "name": "stderr",
     "output_type": "stream",
     "text": [
      "\r",
      " 34%|███▍      | 22/65 [00:25<00:49,  1.16s/it]"
     ]
    },
    {
     "name": "stdout",
     "output_type": "stream",
     "text": [
      "Processing 1 images\n",
      "image                    shape: (519, 161, 3)         min:    5.00000  max:  255.00000\n",
      "molded_images            shape: (1, 256, 256, 3)      min: -123.70000  max:  151.10000\n",
      "image_metas              shape: (1, 10)               min:    0.00000  max:  519.00000\n"
     ]
    },
    {
     "name": "stderr",
     "output_type": "stream",
     "text": [
      "\r",
      " 35%|███▌      | 23/65 [00:26<00:47,  1.14s/it]"
     ]
    },
    {
     "name": "stdout",
     "output_type": "stream",
     "text": [
      "Processing 1 images\n",
      "image                    shape: (520, 696, 3)         min:   11.00000  max:  225.00000\n",
      "molded_images            shape: (1, 256, 256, 3)      min: -123.70000  max:  119.10000\n",
      "image_metas              shape: (1, 10)               min:    0.00000  max:  696.00000\n"
     ]
    },
    {
     "name": "stderr",
     "output_type": "stream",
     "text": [
      "\r",
      " 37%|███▋      | 24/65 [00:27<00:47,  1.15s/it]"
     ]
    },
    {
     "name": "stdout",
     "output_type": "stream",
     "text": [
      "Processing 1 images\n",
      "image                    shape: (520, 696, 3)         min:   11.00000  max:  230.00000\n",
      "molded_images            shape: (1, 256, 256, 3)      min: -123.70000  max:  125.10000\n",
      "image_metas              shape: (1, 10)               min:    0.00000  max:  696.00000\n"
     ]
    },
    {
     "name": "stderr",
     "output_type": "stream",
     "text": [
      "\r",
      " 38%|███▊      | 25/65 [00:29<00:47,  1.18s/it]"
     ]
    },
    {
     "name": "stdout",
     "output_type": "stream",
     "text": [
      "Processing 1 images\n",
      "image                    shape: (519, 161, 3)         min:    0.00000  max:  255.00000\n",
      "molded_images            shape: (1, 256, 256, 3)      min: -123.70000  max:  151.10000\n",
      "image_metas              shape: (1, 10)               min:    0.00000  max:  519.00000\n"
     ]
    },
    {
     "name": "stderr",
     "output_type": "stream",
     "text": [
      "\r",
      " 40%|████      | 26/65 [00:30<00:45,  1.16s/it]"
     ]
    },
    {
     "name": "stdout",
     "output_type": "stream",
     "text": [
      "Processing 1 images\n",
      "image                    shape: (520, 348, 3)         min:    0.00000  max:  201.00000\n",
      "molded_images            shape: (1, 256, 256, 3)      min: -123.70000  max:   81.10000\n",
      "image_metas              shape: (1, 10)               min:    0.00000  max:  520.00000\n"
     ]
    },
    {
     "name": "stderr",
     "output_type": "stream",
     "text": [
      "\r",
      " 42%|████▏     | 27/65 [00:33<00:46,  1.23s/it]"
     ]
    },
    {
     "name": "stdout",
     "output_type": "stream",
     "text": [
      "Processing 1 images\n",
      "image                    shape: (256, 256, 3)         min:    8.00000  max:  192.00000\n",
      "molded_images            shape: (1, 256, 256, 3)      min: -115.70000  max:   88.10000\n",
      "image_metas              shape: (1, 10)               min:    0.00000  max:  256.00000\n"
     ]
    },
    {
     "name": "stderr",
     "output_type": "stream",
     "text": [
      "\r",
      " 43%|████▎     | 28/65 [00:33<00:44,  1.20s/it]"
     ]
    },
    {
     "name": "stdout",
     "output_type": "stream",
     "text": [
      "Processing 1 images\n",
      "image                    shape: (512, 680, 3)         min:    0.00000  max:  255.00000\n",
      "molded_images            shape: (1, 256, 256, 3)      min: -123.70000  max:  150.10000\n",
      "image_metas              shape: (1, 10)               min:    0.00000  max:  680.00000\n"
     ]
    },
    {
     "name": "stderr",
     "output_type": "stream",
     "text": [
      "\r",
      " 45%|████▍     | 29/65 [00:36<00:45,  1.26s/it]"
     ]
    },
    {
     "name": "stdout",
     "output_type": "stream",
     "text": [
      "Processing 1 images\n",
      "image                    shape: (260, 347, 3)         min:    0.00000  max:  255.00000\n",
      "molded_images            shape: (1, 256, 256, 3)      min: -123.70000  max:  151.10000\n",
      "image_metas              shape: (1, 10)               min:    0.00000  max:  347.00000\n"
     ]
    },
    {
     "name": "stderr",
     "output_type": "stream",
     "text": [
      "\r",
      " 46%|████▌     | 30/65 [00:37<00:43,  1.24s/it]"
     ]
    },
    {
     "name": "stdout",
     "output_type": "stream",
     "text": [
      "Processing 1 images\n",
      "image                    shape: (256, 256, 3)         min:    1.00000  max:   82.00000\n",
      "molded_images            shape: (1, 256, 256, 3)      min: -122.70000  max:  -21.90000\n",
      "image_metas              shape: (1, 10)               min:    0.00000  max:  256.00000\n"
     ]
    },
    {
     "name": "stderr",
     "output_type": "stream",
     "text": [
      "\r",
      " 48%|████▊     | 31/65 [00:37<00:41,  1.21s/it]"
     ]
    },
    {
     "name": "stdout",
     "output_type": "stream",
     "text": [
      "Processing 1 images\n",
      "image                    shape: (519, 253, 3)         min:   10.00000  max:  225.00000\n",
      "molded_images            shape: (1, 256, 256, 3)      min: -123.70000  max:  119.10000\n",
      "image_metas              shape: (1, 10)               min:    0.00000  max:  519.00000\n"
     ]
    },
    {
     "name": "stderr",
     "output_type": "stream",
     "text": [
      "\r",
      " 49%|████▉     | 32/65 [00:38<00:39,  1.20s/it]"
     ]
    },
    {
     "name": "stdout",
     "output_type": "stream",
     "text": [
      "Processing 1 images\n",
      "image                    shape: (520, 696, 3)         min:   11.00000  max:  222.00000\n",
      "molded_images            shape: (1, 256, 256, 3)      min: -123.70000  max:  116.10000\n",
      "image_metas              shape: (1, 10)               min:    0.00000  max:  696.00000\n"
     ]
    },
    {
     "name": "stderr",
     "output_type": "stream",
     "text": [
      "\r",
      " 51%|█████     | 33/65 [00:40<00:39,  1.22s/it]"
     ]
    },
    {
     "name": "stdout",
     "output_type": "stream",
     "text": [
      "Processing 1 images\n",
      "image                    shape: (512, 680, 3)         min:    0.00000  max:  255.00000\n",
      "molded_images            shape: (1, 256, 256, 3)      min: -123.70000  max:  151.10000\n",
      "image_metas              shape: (1, 10)               min:    0.00000  max:  680.00000\n"
     ]
    },
    {
     "name": "stderr",
     "output_type": "stream",
     "text": [
      "\r",
      " 52%|█████▏    | 34/65 [00:41<00:38,  1.23s/it]"
     ]
    },
    {
     "name": "stdout",
     "output_type": "stream",
     "text": [
      "Processing 1 images\n",
      "image                    shape: (256, 256, 3)         min:    0.00000  max:  108.00000\n",
      "molded_images            shape: (1, 256, 256, 3)      min: -123.70000  max:    4.10000\n",
      "image_metas              shape: (1, 10)               min:    0.00000  max:  256.00000\n"
     ]
    },
    {
     "name": "stderr",
     "output_type": "stream",
     "text": [
      "\r",
      " 54%|█████▍    | 35/65 [00:42<00:36,  1.21s/it]"
     ]
    },
    {
     "name": "stdout",
     "output_type": "stream",
     "text": [
      "Processing 1 images\n",
      "image                    shape: (512, 640, 3)         min:    0.00000  max:  109.00000\n",
      "molded_images            shape: (1, 256, 256, 3)      min: -123.70000  max:  -14.90000\n",
      "image_metas              shape: (1, 10)               min:    0.00000  max:  640.00000\n"
     ]
    },
    {
     "name": "stderr",
     "output_type": "stream",
     "text": [
      "\r",
      " 55%|█████▌    | 36/65 [00:43<00:34,  1.20s/it]"
     ]
    },
    {
     "name": "stdout",
     "output_type": "stream",
     "text": [
      "Processing 1 images\n",
      "image                    shape: (519, 162, 3)         min:    3.00000  max:  255.00000\n",
      "molded_images            shape: (1, 256, 256, 3)      min: -123.70000  max:  151.10000\n",
      "image_metas              shape: (1, 10)               min:    0.00000  max:  519.00000\n"
     ]
    },
    {
     "name": "stderr",
     "output_type": "stream",
     "text": [
      "\r",
      " 57%|█████▋    | 37/65 [00:43<00:33,  1.18s/it]"
     ]
    },
    {
     "name": "stdout",
     "output_type": "stream",
     "text": [
      "Processing 1 images\n",
      "image                    shape: (524, 348, 3)         min:    0.00000  max:  255.00000\n",
      "molded_images            shape: (1, 256, 256, 3)      min: -123.70000  max:  144.10000\n",
      "image_metas              shape: (1, 10)               min:    0.00000  max:  524.00000\n"
     ]
    },
    {
     "name": "stderr",
     "output_type": "stream",
     "text": [
      "\r",
      " 58%|█████▊    | 38/65 [00:44<00:31,  1.18s/it]"
     ]
    },
    {
     "name": "stdout",
     "output_type": "stream",
     "text": [
      "Processing 1 images\n",
      "image                    shape: (260, 347, 3)         min:    2.00000  max:  255.00000\n",
      "molded_images            shape: (1, 256, 256, 3)      min: -123.70000  max:  151.10000\n",
      "image_metas              shape: (1, 10)               min:    0.00000  max:  347.00000\n"
     ]
    },
    {
     "name": "stderr",
     "output_type": "stream",
     "text": [
      "\r",
      " 60%|██████    | 39/65 [00:45<00:30,  1.18s/it]"
     ]
    },
    {
     "name": "stdout",
     "output_type": "stream",
     "text": [
      "Processing 1 images\n",
      "image                    shape: (524, 348, 3)         min:    0.00000  max:  253.00000\n",
      "molded_images            shape: (1, 256, 256, 3)      min: -123.70000  max:  138.10000\n",
      "image_metas              shape: (1, 10)               min:    0.00000  max:  524.00000\n"
     ]
    },
    {
     "name": "stderr",
     "output_type": "stream",
     "text": [
      "\r",
      " 62%|██████▏   | 40/65 [00:47<00:29,  1.18s/it]"
     ]
    },
    {
     "name": "stdout",
     "output_type": "stream",
     "text": [
      "Processing 1 images\n",
      "image                    shape: (256, 256, 3)         min:    0.00000  max:  101.00000\n",
      "molded_images            shape: (1, 256, 256, 3)      min: -123.70000  max:   -2.90000\n",
      "image_metas              shape: (1, 10)               min:    0.00000  max:  256.00000\n"
     ]
    },
    {
     "name": "stderr",
     "output_type": "stream",
     "text": [
      "\r",
      " 63%|██████▎   | 41/65 [00:47<00:27,  1.16s/it]"
     ]
    },
    {
     "name": "stdout",
     "output_type": "stream",
     "text": [
      "Processing 1 images\n",
      "image                    shape: (512, 640, 3)         min:    1.00000  max:  153.00000\n",
      "molded_images            shape: (1, 256, 256, 3)      min: -123.70000  max:   23.10000\n",
      "image_metas              shape: (1, 10)               min:    0.00000  max:  640.00000\n"
     ]
    },
    {
     "name": "stderr",
     "output_type": "stream",
     "text": [
      "\r",
      " 65%|██████▍   | 42/65 [00:48<00:26,  1.16s/it]"
     ]
    },
    {
     "name": "stdout",
     "output_type": "stream",
     "text": [
      "Processing 1 images\n",
      "image                    shape: (512, 680, 3)         min:    0.00000  max:  255.00000\n",
      "molded_images            shape: (1, 256, 256, 3)      min: -123.70000  max:  149.10000\n",
      "image_metas              shape: (1, 10)               min:    0.00000  max:  680.00000\n"
     ]
    },
    {
     "name": "stderr",
     "output_type": "stream",
     "text": [
      "\r",
      " 66%|██████▌   | 43/65 [00:50<00:25,  1.17s/it]"
     ]
    },
    {
     "name": "stdout",
     "output_type": "stream",
     "text": [
      "Processing 1 images\n",
      "image                    shape: (256, 256, 3)         min:    0.00000  max:  255.00000\n",
      "molded_images            shape: (1, 256, 256, 3)      min: -123.70000  max:  151.10000\n",
      "image_metas              shape: (1, 10)               min:    0.00000  max:  256.00000\n"
     ]
    },
    {
     "name": "stderr",
     "output_type": "stream",
     "text": [
      "\r",
      " 68%|██████▊   | 44/65 [00:50<00:24,  1.15s/it]"
     ]
    },
    {
     "name": "stdout",
     "output_type": "stream",
     "text": [
      "Processing 1 images\n",
      "image                    shape: (512, 680, 3)         min:    0.00000  max:  255.00000\n",
      "molded_images            shape: (1, 256, 256, 3)      min: -123.70000  max:  149.10000\n",
      "image_metas              shape: (1, 10)               min:    0.00000  max:  680.00000\n"
     ]
    },
    {
     "name": "stderr",
     "output_type": "stream",
     "text": [
      "\r",
      " 69%|██████▉   | 45/65 [00:52<00:23,  1.17s/it]"
     ]
    },
    {
     "name": "stdout",
     "output_type": "stream",
     "text": [
      "Processing 1 images\n",
      "image                    shape: (519, 253, 3)         min:   11.00000  max:  211.00000\n",
      "molded_images            shape: (1, 256, 256, 3)      min: -123.70000  max:  106.10000\n",
      "image_metas              shape: (1, 10)               min:    0.00000  max:  519.00000\n"
     ]
    },
    {
     "name": "stderr",
     "output_type": "stream",
     "text": [
      "\r",
      " 71%|███████   | 46/65 [00:53<00:22,  1.16s/it]"
     ]
    },
    {
     "name": "stdout",
     "output_type": "stream",
     "text": [
      "Processing 1 images\n",
      "image                    shape: (512, 640, 3)         min:    0.00000  max:  192.00000\n",
      "molded_images            shape: (1, 256, 256, 3)      min: -123.70000  max:   35.10000\n",
      "image_metas              shape: (1, 10)               min:    0.00000  max:  640.00000\n"
     ]
    },
    {
     "name": "stderr",
     "output_type": "stream",
     "text": [
      "\r",
      " 72%|███████▏  | 47/65 [00:54<00:20,  1.17s/it]"
     ]
    },
    {
     "name": "stdout",
     "output_type": "stream",
     "text": [
      "Processing 1 images\n",
      "image                    shape: (512, 640, 3)         min:    0.00000  max:  186.00000\n",
      "molded_images            shape: (1, 256, 256, 3)      min: -123.70000  max:   56.10000\n",
      "image_metas              shape: (1, 10)               min:    0.00000  max:  640.00000\n"
     ]
    },
    {
     "name": "stderr",
     "output_type": "stream",
     "text": [
      "\r",
      " 74%|███████▍  | 48/65 [00:56<00:19,  1.17s/it]"
     ]
    },
    {
     "name": "stdout",
     "output_type": "stream",
     "text": [
      "Processing 1 images\n",
      "image                    shape: (520, 348, 3)         min:    5.00000  max:  255.00000\n",
      "molded_images            shape: (1, 256, 256, 3)      min: -123.70000  max:  151.10000\n",
      "image_metas              shape: (1, 10)               min:    0.00000  max:  520.00000\n"
     ]
    },
    {
     "name": "stderr",
     "output_type": "stream",
     "text": [
      "\r",
      " 75%|███████▌  | 49/65 [00:57<00:18,  1.16s/it]"
     ]
    },
    {
     "name": "stdout",
     "output_type": "stream",
     "text": [
      "Processing 1 images\n",
      "image                    shape: (512, 680, 3)         min:    0.00000  max:  255.00000\n",
      "molded_images            shape: (1, 256, 256, 3)      min: -123.70000  max:  151.10000\n",
      "image_metas              shape: (1, 10)               min:    0.00000  max:  680.00000\n"
     ]
    },
    {
     "name": "stderr",
     "output_type": "stream",
     "text": [
      "\r",
      " 77%|███████▋  | 50/65 [00:59<00:17,  1.18s/it]"
     ]
    },
    {
     "name": "stdout",
     "output_type": "stream",
     "text": [
      "Processing 1 images\n",
      "image                    shape: (256, 256, 3)         min:    0.00000  max:  245.00000\n",
      "molded_images            shape: (1, 256, 256, 3)      min: -123.70000  max:  141.10000\n",
      "image_metas              shape: (1, 10)               min:    0.00000  max:  256.00000\n"
     ]
    },
    {
     "name": "stderr",
     "output_type": "stream",
     "text": [
      "\r",
      " 78%|███████▊  | 51/65 [00:59<00:16,  1.16s/it]"
     ]
    },
    {
     "name": "stdout",
     "output_type": "stream",
     "text": [
      "Processing 1 images\n",
      "image                    shape: (519, 253, 3)         min:    9.00000  max:  101.00000\n",
      "molded_images            shape: (1, 256, 256, 3)      min: -123.70000  max:   -9.90000\n",
      "image_metas              shape: (1, 10)               min:    0.00000  max:  519.00000\n"
     ]
    },
    {
     "name": "stderr",
     "output_type": "stream",
     "text": [
      "\r",
      " 80%|████████  | 52/65 [01:00<00:15,  1.16s/it]"
     ]
    },
    {
     "name": "stdout",
     "output_type": "stream",
     "text": [
      "Processing 1 images\n",
      "image                    shape: (512, 680, 3)         min:    0.00000  max:  255.00000\n",
      "molded_images            shape: (1, 256, 256, 3)      min: -123.70000  max:  148.10000\n",
      "image_metas              shape: (1, 10)               min:    0.00000  max:  680.00000\n"
     ]
    },
    {
     "name": "stderr",
     "output_type": "stream",
     "text": [
      "\r",
      " 82%|████████▏ | 53/65 [01:02<00:14,  1.17s/it]"
     ]
    },
    {
     "name": "stdout",
     "output_type": "stream",
     "text": [
      "Processing 1 images\n",
      "image                    shape: (256, 256, 3)         min:    9.00000  max:  255.00000\n",
      "molded_images            shape: (1, 256, 256, 3)      min: -114.70000  max:  151.10000\n",
      "image_metas              shape: (1, 10)               min:    0.00000  max:  256.00000\n"
     ]
    },
    {
     "name": "stderr",
     "output_type": "stream",
     "text": [
      "\r",
      " 83%|████████▎ | 54/65 [01:02<00:12,  1.16s/it]"
     ]
    },
    {
     "name": "stdout",
     "output_type": "stream",
     "text": [
      "Processing 1 images\n",
      "image                    shape: (512, 680, 3)         min:    0.00000  max:  255.00000\n",
      "molded_images            shape: (1, 256, 256, 3)      min: -123.70000  max:  146.10000\n",
      "image_metas              shape: (1, 10)               min:    0.00000  max:  680.00000\n"
     ]
    },
    {
     "name": "stderr",
     "output_type": "stream",
     "text": [
      "\r",
      " 85%|████████▍ | 55/65 [01:03<00:11,  1.16s/it]"
     ]
    },
    {
     "name": "stdout",
     "output_type": "stream",
     "text": [
      "Processing 1 images\n",
      "image                    shape: (256, 256, 3)         min:   10.00000  max:  255.00000\n",
      "molded_images            shape: (1, 256, 256, 3)      min: -113.70000  max:  151.10000\n",
      "image_metas              shape: (1, 10)               min:    0.00000  max:  256.00000\n"
     ]
    },
    {
     "name": "stderr",
     "output_type": "stream",
     "text": [
      "\r",
      " 86%|████████▌ | 56/65 [01:04<00:10,  1.15s/it]"
     ]
    },
    {
     "name": "stdout",
     "output_type": "stream",
     "text": [
      "Processing 1 images\n",
      "image                    shape: (520, 696, 3)         min:   10.00000  max:  237.00000\n",
      "molded_images            shape: (1, 256, 256, 3)      min: -123.70000  max:  132.10000\n",
      "image_metas              shape: (1, 10)               min:    0.00000  max:  696.00000\n"
     ]
    },
    {
     "name": "stderr",
     "output_type": "stream",
     "text": [
      "\r",
      " 88%|████████▊ | 57/65 [01:05<00:09,  1.15s/it]"
     ]
    },
    {
     "name": "stdout",
     "output_type": "stream",
     "text": [
      "Processing 1 images\n",
      "image                    shape: (256, 256, 3)         min:    0.00000  max:   89.00000\n",
      "molded_images            shape: (1, 256, 256, 3)      min: -123.70000  max:  -14.90000\n",
      "image_metas              shape: (1, 10)               min:    0.00000  max:  256.00000\n"
     ]
    },
    {
     "name": "stderr",
     "output_type": "stream",
     "text": [
      "\r",
      " 89%|████████▉ | 58/65 [01:05<00:07,  1.14s/it]"
     ]
    },
    {
     "name": "stdout",
     "output_type": "stream",
     "text": [
      "Processing 1 images\n",
      "image                    shape: (256, 256, 3)         min:   10.00000  max:  255.00000\n",
      "molded_images            shape: (1, 256, 256, 3)      min: -113.70000  max:  151.10000\n",
      "image_metas              shape: (1, 10)               min:    0.00000  max:  256.00000\n"
     ]
    },
    {
     "name": "stderr",
     "output_type": "stream",
     "text": [
      "\r",
      " 91%|█████████ | 59/65 [01:06<00:06,  1.12s/it]"
     ]
    },
    {
     "name": "stdout",
     "output_type": "stream",
     "text": [
      "Processing 1 images\n",
      "image                    shape: (256, 256, 3)         min:    9.00000  max:  255.00000\n",
      "molded_images            shape: (1, 256, 256, 3)      min: -114.70000  max:  151.10000\n",
      "image_metas              shape: (1, 10)               min:    0.00000  max:  256.00000\n"
     ]
    },
    {
     "name": "stderr",
     "output_type": "stream",
     "text": [
      "\r",
      " 92%|█████████▏| 60/65 [01:06<00:05,  1.11s/it]"
     ]
    },
    {
     "name": "stdout",
     "output_type": "stream",
     "text": [
      "Processing 1 images\n",
      "image                    shape: (260, 347, 3)         min:   28.00000  max:  255.00000\n",
      "molded_images            shape: (1, 256, 256, 3)      min: -123.70000  max:  151.10000\n",
      "image_metas              shape: (1, 10)               min:    0.00000  max:  347.00000\n"
     ]
    },
    {
     "name": "stderr",
     "output_type": "stream",
     "text": [
      "\r",
      " 94%|█████████▍| 61/65 [01:07<00:04,  1.10s/it]"
     ]
    },
    {
     "name": "stdout",
     "output_type": "stream",
     "text": [
      "Processing 1 images\n",
      "image                    shape: (519, 253, 3)         min:   11.00000  max:  242.00000\n",
      "molded_images            shape: (1, 256, 256, 3)      min: -123.70000  max:  137.10000\n",
      "image_metas              shape: (1, 10)               min:    0.00000  max:  519.00000\n"
     ]
    },
    {
     "name": "stderr",
     "output_type": "stream",
     "text": [
      "\r",
      " 95%|█████████▌| 62/65 [01:07<00:03,  1.10s/it]"
     ]
    },
    {
     "name": "stdout",
     "output_type": "stream",
     "text": [
      "Processing 1 images\n",
      "image                    shape: (256, 256, 3)         min:    1.00000  max:   95.00000\n",
      "molded_images            shape: (1, 256, 256, 3)      min: -122.70000  max:   -8.90000\n",
      "image_metas              shape: (1, 10)               min:    0.00000  max:  256.00000\n"
     ]
    },
    {
     "name": "stderr",
     "output_type": "stream",
     "text": [
      "\r",
      " 97%|█████████▋| 63/65 [01:08<00:02,  1.08s/it]"
     ]
    },
    {
     "name": "stdout",
     "output_type": "stream",
     "text": [
      "Processing 1 images\n",
      "image                    shape: (256, 256, 3)         min:    9.00000  max:  255.00000\n",
      "molded_images            shape: (1, 256, 256, 3)      min: -114.70000  max:  151.10000\n",
      "image_metas              shape: (1, 10)               min:    0.00000  max:  256.00000\n"
     ]
    },
    {
     "name": "stderr",
     "output_type": "stream",
     "text": [
      "\r",
      " 98%|█████████▊| 64/65 [01:08<00:01,  1.07s/it]"
     ]
    },
    {
     "name": "stdout",
     "output_type": "stream",
     "text": [
      "Processing 1 images\n",
      "image                    shape: (256, 256, 3)         min:    9.00000  max:  255.00000\n",
      "molded_images            shape: (1, 256, 256, 3)      min: -114.70000  max:  151.10000\n",
      "image_metas              shape: (1, 10)               min:    0.00000  max:  256.00000\n"
     ]
    },
    {
     "name": "stderr",
     "output_type": "stream",
     "text": [
      "100%|██████████| 65/65 [01:09<00:00,  1.06s/it]\n"
     ]
    }
   ],
   "source": [
    "results = []\n",
    "for ids in tqdm(test_ids):\n",
    "    test_img = imread(TEST_PATH + ids + \"/images/\" +ids + \".png\")[:, :, :3]\n",
    "    r = model.detect([test_img], verbose=1)[0]\n",
    "    h, w , counts = r[\"masks\"].shape\n",
    "    prob_masks = np.zeros((h, w, counts))\n",
    "    for i in range(counts):\n",
    "        prob_mask = np.where(r[\"masks\"][:, :, i] == 1, r[\"scores\"][i], -1)\n",
    "        prob_masks[:, :, i] = prob_mask\n",
    "    r[\"ids\"] = ids\n",
    "    r[\"prob_masks\"] = prob_masks\n",
    "    r[\"masks\"] = create_mask(prob_masks)\n",
    "    results.append(r)"
   ]
  },
  {
   "cell_type": "code",
   "execution_count": 8,
   "metadata": {
    "collapsed": false
   },
   "outputs": [
    {
     "data": {
      "text/html": [
       "<div>\n",
       "<table border=\"1\" class=\"dataframe\">\n",
       "  <thead>\n",
       "    <tr style=\"text-align: right;\">\n",
       "      <th></th>\n",
       "      <th>EncodedPixels</th>\n",
       "      <th>ImageId</th>\n",
       "    </tr>\n",
       "  </thead>\n",
       "  <tbody>\n",
       "    <tr>\n",
       "      <th>503</th>\n",
       "      <td>154976 8 155495 13 156014 17 156534 18 157054 ...</td>\n",
       "      <td>550450e4bff4036fd671decdc5d42fec23578198d6a2fd...</td>\n",
       "    </tr>\n",
       "    <tr>\n",
       "      <th>1630</th>\n",
       "      <td>229796 1 230304 12 230814 19 231325 27 231836 ...</td>\n",
       "      <td>44afae184c89e6ba55985b4d341acc1ae1e8b6ef963120...</td>\n",
       "    </tr>\n",
       "    <tr>\n",
       "      <th>923</th>\n",
       "      <td>1001 13 1519 17 2038 18 2558 18 3078 18 3598 1...</td>\n",
       "      <td>d6eb7ce7723e2f6dc13b90b41a29ded27dbd815bad633f...</td>\n",
       "    </tr>\n",
       "  </tbody>\n",
       "</table>\n",
       "</div>"
      ],
      "text/plain": [
       "                                          EncodedPixels  \\\n",
       "503   154976 8 155495 13 156014 17 156534 18 157054 ...   \n",
       "1630  229796 1 230304 12 230814 19 231325 27 231836 ...   \n",
       "923   1001 13 1519 17 2038 18 2558 18 3078 18 3598 1...   \n",
       "\n",
       "                                                ImageId  \n",
       "503   550450e4bff4036fd671decdc5d42fec23578198d6a2fd...  \n",
       "1630  44afae184c89e6ba55985b4d341acc1ae1e8b6ef963120...  \n",
       "923   d6eb7ce7723e2f6dc13b90b41a29ded27dbd815bad633f...  "
      ]
     },
     "execution_count": 8,
     "metadata": {},
     "output_type": "execute_result"
    }
   ],
   "source": [
    "out_pred_list = []\n",
    "for r in results:\n",
    "    counts = len(r[\"scores\"])\n",
    "    for i in range(counts):\n",
    "        enc = rle_encoding(r[\"masks\"][:, :, i])\n",
    "        out_pred_list+=[dict(ImageId=r[\"ids\"], EncodedPixels = ' '.join(np.array(enc).astype(str)))]\n",
    "out_pred_df = pd.DataFrame(out_pred_list)\n",
    "out_pred_df.sample(3)"
   ]
  },
  {
   "cell_type": "code",
   "execution_count": 9,
   "metadata": {
    "collapsed": true
   },
   "outputs": [],
   "source": [
    "out_pred_df[['ImageId', 'EncodedPixels']].to_csv('predictions.csv', index = False)"
   ]
  },
  {
   "cell_type": "code",
   "execution_count": 11,
   "metadata": {
    "collapsed": false,
    "scrolled": false
   },
   "outputs": [
    {
     "name": "stdout",
     "output_type": "stream",
     "text": [
      "Processing 1 images\n",
      "image                    shape: (256, 256, 3)         min:    1.00000  max:   79.00000\n",
      "molded_images            shape: (1, 256, 256, 3)      min: -122.70000  max:  -24.90000\n",
      "image_metas              shape: (1, 10)               min:    0.00000  max:  256.00000\n"
     ]
    },
    {
     "data": {
      "image/png": "[encoded data removed]",
      "text/plain": [
       "<Figure size 576x576 with 1 Axes>"
      ]
     },
     "metadata": {},
     "output_type": "display_data"
    }
   ],
   "source": [
    "ids = 0\n",
    "org_img = imread(TEST_PATH + test_ids[ids] + \"/images/\" +test_ids[ids] + \".png\")[:, :, :3]\n",
    "r = model.detect([org_img], verbose=1)[0]\n",
    "visualize.display_instances(\n",
    "    org_img,\n",
    "    r['rois'],\n",
    "    r['masks'],\n",
    "    r['class_ids'], \n",
    "    [\"BG\", \"cell\"],\n",
    "    r['scores'],\n",
    "    ax=get_ax())"
   ]
  }
 ],
 "metadata": {
  "kernelspec": {
   "display_name": "Python 3",
   "language": "python",
   "name": "python3"
  },
  "language_info": {
   "codemirror_mode": {
    "name": "ipython",
    "version": 3
   },
   "file_extension": ".py",
   "mimetype": "text/x-python",
   "name": "python",
   "nbconvert_exporter": "python",
   "pygments_lexer": "ipython3",
   "version": "3.6.3"
  }
 },
 "nbformat": 4,
 "nbformat_minor": 2
}
