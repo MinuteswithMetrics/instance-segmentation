{
 "cells": [
  {
   "cell_type": "code",
   "execution_count": 1,
   "metadata": {
    "collapsed": false
   },
   "outputs": [
    {
     "name": "stderr",
     "output_type": "stream",
     "text": [
      "Using TensorFlow backend.\n"
     ]
    }
   ],
   "source": [
    "import os\n",
    "import sys\n",
    "import random\n",
    "import math\n",
    "import time\n",
    "import numpy as np\n",
    "from tqdm import tqdm\n",
    "import pandas as pd\n",
    "from skimage.io import imread, imshow, imread_collection, concatenate_images\n",
    "from skimage.transform import resize\n",
    "from skimage.morphology import label\n",
    "%matplotlib inline\n",
    "import matplotlib\n",
    "import matplotlib.pyplot as plt\n",
    "\n",
    "from config import DSBConfig\n",
    "import utils\n",
    "from utils import DSBDataset\n",
    "import mask_rcnn as modellib\n",
    "import visualize\n",
    "from mask_rcnn import log\n",
    "\n",
    "os.environ[\"CUDA_DEVICE_ORDER\"] = \"PCI_BUS_ID\"\n",
    "os.environ[\"CUDA_VISIBLE_DEVICES\"] = \"0\""
   ]
  },
  {
   "cell_type": "code",
   "execution_count": 2,
   "metadata": {
    "collapsed": true
   },
   "outputs": [],
   "source": [
    "# Root directory of the project\n",
    "ROOT_DIR = os.getcwd()\n",
    "\n",
    "# Directory to save logs and trained model\n",
    "MODEL_DIR = os.path.join(ROOT_DIR, \"logs\")\n",
    "# Get path to saved weights\n",
    "# Either set a specific path or find last trained weights\n",
    "# model_path = os.path.join(ROOT_DIR, \".h5 file name here\")\n",
    "model_path = \"./logs/dsb20180309T1156/mask_rcnn_dsb_0010.h5\"\n",
    "\n",
    "TEST_PATH = '../dataset/DSB/test/'"
   ]
  },
  {
   "cell_type": "code",
   "execution_count": 3,
   "metadata": {
    "collapsed": true
   },
   "outputs": [],
   "source": [
    "# Get train and test IDs\n",
    "test_ids = next(os.walk(TEST_PATH))[1]"
   ]
  },
  {
   "cell_type": "code",
   "execution_count": 4,
   "metadata": {
    "collapsed": false
   },
   "outputs": [
    {
     "name": "stdout",
     "output_type": "stream",
     "text": [
      "\n",
      "Configurations:\n",
      "BACKBONE_SHAPES                [[80 80]\n",
      " [40 40]\n",
      " [20 20]\n",
      " [10 10]\n",
      " [ 5  5]]\n",
      "BACKBONE_STRIDES               [4, 8, 16, 32, 64]\n",
      "BATCH_SIZE                     8\n",
      "BBOX_STD_DEV                   [ 0.1  0.1  0.2  0.2]\n",
      "DETECTION_MAX_INSTANCES        100\n",
      "DETECTION_MIN_CONFIDENCE       0.7\n",
      "DETECTION_NMS_THRESHOLD        0.3\n",
      "GPU_COUNT                      1\n",
      "IMAGES_PER_GPU                 8\n",
      "IMAGE_MAX_DIM                  320\n",
      "IMAGE_MIN_DIM                  256\n",
      "IMAGE_PADDING                  True\n",
      "IMAGE_SHAPE                    [320 320   3]\n",
      "LEARNING_MOMENTUM              0.9\n",
      "LEARNING_RATE                  0.001\n",
      "MASK_POOL_SIZE                 14\n",
      "MASK_SHAPE                     [28, 28]\n",
      "MAX_GT_INSTANCES               100\n",
      "MEAN_PIXEL                     [ 123.7  116.8  103.9]\n",
      "MINI_MASK_SHAPE                (56, 56)\n",
      "NAME                           DSB\n",
      "NUM_CLASSES                    2\n",
      "POOL_SIZE                      7\n",
      "POST_NMS_ROIS_INFERENCE        1000\n",
      "POST_NMS_ROIS_TRAINING         2000\n",
      "ROI_POSITIVE_RATIO             0.33\n",
      "RPN_ANCHOR_RATIOS              [0.5, 1, 2]\n",
      "RPN_ANCHOR_SCALES              (8, 16, 32, 64, 128)\n",
      "RPN_ANCHOR_STRIDE              1\n",
      "RPN_BBOX_STD_DEV               [ 0.1  0.1  0.2  0.2]\n",
      "RPN_NMS_THRESHOLD              0.7\n",
      "RPN_TRAIN_ANCHORS_PER_IMAGE    256\n",
      "STEPS_PER_EPOCH                1000\n",
      "TRAIN_ROIS_PER_IMAGE           200\n",
      "USE_MINI_MASK                  True\n",
      "USE_RPN_ROIS                   True\n",
      "VALIDATION_STEPS               50\n",
      "WEIGHT_DECAY                   0.0001\n",
      "\n",
      "\n"
     ]
    }
   ],
   "source": [
    "config = DSBConfig()\n",
    "config.IMAGE_MAX_DIM = 320\n",
    "\n",
    "class InferenceConfig(DSBConfig):\n",
    "    GPU_COUNT = 1\n",
    "    IMAGES_PER_GPU = 1\n",
    "    \n",
    "inference_config = InferenceConfig()\n",
    "\n",
    "config.display()"
   ]
  },
  {
   "cell_type": "code",
   "execution_count": 5,
   "metadata": {
    "collapsed": false
   },
   "outputs": [
    {
     "name": "stdout",
     "output_type": "stream",
     "text": [
      "Loading weights from  ./logs/dsb20180309T1156/mask_rcnn_dsb_0010.h5\n"
     ]
    }
   ],
   "source": [
    "# Recreate the model in inference mode\n",
    "model = modellib.MaskRCNN(\n",
    "    mode=\"inference\", \n",
    "    config=inference_config,\n",
    "    model_dir=MODEL_DIR)\n",
    "\n",
    "# Load trained weights (fill in path to trained weights here)\n",
    "assert model_path != \"\", \"Provide path to trained weights\"\n",
    "print(\"Loading weights from \", model_path)\n",
    "model.load_weights(model_path, by_name=True)"
   ]
  },
  {
   "cell_type": "code",
   "execution_count": 6,
   "metadata": {
    "collapsed": false
   },
   "outputs": [
    {
     "name": "stderr",
     "output_type": "stream",
     "text": [
      "\r",
      "  0%|          | 0/65 [00:00<?, ?it/s]"
     ]
    },
    {
     "name": "stdout",
     "output_type": "stream",
     "text": [
      "Processing 1 images\n",
      "image                    shape: (256, 256, 3)         min:  177.00000  max:  255.00000\n",
      "molded_images            shape: (1, 320, 320, 3)      min: -123.70000  max:  151.10000\n",
      "image_metas              shape: (1, 10)               min:    0.00000  max:  288.00000\n"
     ]
    },
    {
     "name": "stderr",
     "output_type": "stream",
     "text": [
      "  5%|▍         | 3/65 [00:02<00:43,  1.43it/s]"
     ]
    },
    {
     "name": "stdout",
     "output_type": "stream",
     "text": [
      "Processing 1 images\n",
      "image                    shape: (256, 256, 3)         min:    1.00000  max:  247.00000\n",
      "molded_images            shape: (1, 320, 320, 3)      min: -123.70000  max:  143.10000\n",
      "image_metas              shape: (1, 10)               min:    0.00000  max:  288.00000\n",
      "Processing 1 images\n",
      "image                    shape: (256, 256, 3)         min:    1.00000  max:  246.00000\n",
      "molded_images            shape: (1, 320, 320, 3)      min: -123.70000  max:  142.10000\n",
      "image_metas              shape: (1, 10)               min:    0.00000  max:  288.00000\n"
     ]
    },
    {
     "name": "stderr",
     "output_type": "stream",
     "text": [
      "\r",
      "  6%|▌         | 4/65 [00:02<00:33,  1.80it/s]"
     ]
    },
    {
     "name": "stdout",
     "output_type": "stream",
     "text": [
      "Processing 1 images\n",
      "image                    shape: (512, 640, 3)         min:    0.00000  max:  255.00000\n",
      "molded_images            shape: (1, 320, 320, 3)      min: -123.70000  max:  150.10000\n",
      "image_metas              shape: (1, 10)               min:    0.00000  max:  640.00000\n",
      "Processing 1 images\n",
      "image                    shape: (519, 162, 3)         min:   51.00000  max:  255.00000\n",
      "molded_images            shape: (1, 320, 320, 3)      min: -123.70000  max:  151.10000\n",
      "image_metas              shape: (1, 10)               min:    0.00000  max:  519.00000\n"
     ]
    },
    {
     "name": "stderr",
     "output_type": "stream",
     "text": [
      "  9%|▉         | 6/65 [00:02<00:24,  2.45it/s]"
     ]
    },
    {
     "name": "stdout",
     "output_type": "stream",
     "text": [
      "Processing 1 images\n",
      "image                    shape: (512, 640, 3)         min:    0.00000  max:  255.00000\n",
      "molded_images            shape: (1, 320, 320, 3)      min: -123.70000  max:  151.10000\n",
      "image_metas              shape: (1, 10)               min:    0.00000  max:  640.00000\n",
      "Processing 1 images\n",
      "image                    shape: (524, 348, 3)         min:    0.00000  max:  255.00000\n",
      "molded_images            shape: (1, 320, 320, 3)      min: -123.70000  max:  135.20000\n",
      "image_metas              shape: (1, 10)               min:    0.00000  max:  524.00000\n"
     ]
    },
    {
     "name": "stderr",
     "output_type": "stream",
     "text": [
      " 12%|█▏        | 8/65 [00:02<00:19,  2.86it/s]"
     ]
    },
    {
     "name": "stdout",
     "output_type": "stream",
     "text": [
      "Processing 1 images\n",
      "image                    shape: (256, 256, 3)         min:    1.00000  max:  246.00000\n",
      "molded_images            shape: (1, 320, 320, 3)      min: -123.70000  max:  142.10000\n",
      "image_metas              shape: (1, 10)               min:    0.00000  max:  288.00000\n",
      "Processing 1 images\n",
      "image                    shape: (512, 680, 3)         min:    0.00000  max:  255.00000\n",
      "molded_images            shape: (1, 320, 320, 3)      min: -123.70000  max:  136.20000\n",
      "image_metas              shape: (1, 10)               min:    0.00000  max:  680.00000\n"
     ]
    },
    {
     "name": "stderr",
     "output_type": "stream",
     "text": [
      "\r",
      " 14%|█▍        | 9/65 [00:02<00:18,  3.04it/s]"
     ]
    },
    {
     "name": "stdout",
     "output_type": "stream",
     "text": [
      "Processing 1 images\n",
      "image                    shape: (524, 348, 3)         min:    0.00000  max:  255.00000\n",
      "molded_images            shape: (1, 320, 320, 3)      min: -123.70000  max:  136.20000\n",
      "image_metas              shape: (1, 10)               min:    0.00000  max:  524.00000\n"
     ]
    },
    {
     "name": "stderr",
     "output_type": "stream",
     "text": [
      " 18%|█▊        | 12/65 [00:03<00:15,  3.52it/s]"
     ]
    },
    {
     "name": "stdout",
     "output_type": "stream",
     "text": [
      "Processing 1 images\n",
      "image                    shape: (256, 256, 3)         min:    1.00000  max:  246.00000\n",
      "molded_images            shape: (1, 320, 320, 3)      min: -123.70000  max:  142.10000\n",
      "image_metas              shape: (1, 10)               min:    0.00000  max:  288.00000\n",
      "Processing 1 images\n",
      "image                    shape: (256, 256, 3)         min:    0.00000  max:  254.00000\n",
      "molded_images            shape: (1, 320, 320, 3)      min: -123.70000  max:  150.10000\n",
      "image_metas              shape: (1, 10)               min:    0.00000  max:  288.00000\n",
      "Processing 1 images\n",
      "image                    shape: (390, 239, 3)         min:    0.00000  max:  255.00000\n"
     ]
    },
    {
     "name": "stderr",
     "output_type": "stream",
     "text": [
      " 22%|██▏       | 14/65 [00:03<00:13,  3.86it/s]"
     ]
    },
    {
     "name": "stdout",
     "output_type": "stream",
     "text": [
      "molded_images            shape: (1, 320, 320, 3)      min: -123.70000  max:  151.10000\n",
      "image_metas              shape: (1, 10)               min:    0.00000  max:  390.00000\n",
      "Processing 1 images\n",
      "image                    shape: (512, 640, 3)         min:    0.00000  max:  255.00000\n",
      "molded_images            shape: (1, 320, 320, 3)      min: -123.70000  max:  150.10000\n",
      "image_metas              shape: (1, 10)               min:    0.00000  max:  640.00000\n"
     ]
    },
    {
     "name": "stderr",
     "output_type": "stream",
     "text": [
      "\r",
      " 23%|██▎       | 15/65 [00:03<00:12,  4.03it/s]"
     ]
    },
    {
     "name": "stdout",
     "output_type": "stream",
     "text": [
      "Processing 1 images\n",
      "image                    shape: (256, 256, 3)         min:  135.00000  max:  255.00000\n",
      "molded_images            shape: (1, 320, 320, 3)      min: -123.70000  max:  151.10000\n",
      "image_metas              shape: (1, 10)               min:    0.00000  max:  288.00000\n",
      "Processing 1 images\n",
      "image                    shape: (260, 347, 3)         min:    1.00000  max:  230.00000\n",
      "molded_images            shape: (1, 320, 320, 3)      min: -123.70000  max:  124.10000\n",
      "image_metas              shape: (1, 10)               min:    0.00000  max:  347.00000\n"
     ]
    },
    {
     "name": "stderr",
     "output_type": "stream",
     "text": [
      "\r",
      " 25%|██▍       | 16/65 [00:03<00:12,  4.08it/s]"
     ]
    },
    {
     "name": "stdout",
     "output_type": "stream",
     "text": [
      "Processing 1 images\n",
      "image                    shape: (256, 256, 3)         min:  163.00000  max:  255.00000\n",
      "molded_images            shape: (1, 320, 320, 3)      min: -123.70000  max:  151.10000\n",
      "image_metas              shape: (1, 10)               min:    0.00000  max:  288.00000\n",
      "Processing 1 images\n",
      "image                    shape: (520, 348, 3)         min:    1.00000  max:  253.00000\n",
      "molded_images            shape: (1, 320, 320, 3)      min: -123.70000  max:  148.10000\n",
      "image_metas              shape: (1, 10)               min:    0.00000  max:  520.00000\n"
     ]
    },
    {
     "name": "stderr",
     "output_type": "stream",
     "text": [
      " 29%|██▉       | 19/65 [00:04<00:10,  4.34it/s]"
     ]
    },
    {
     "name": "stdout",
     "output_type": "stream",
     "text": [
      "Processing 1 images\n",
      "image                    shape: (256, 256, 3)         min:    0.00000  max:  254.00000\n",
      "molded_images            shape: (1, 320, 320, 3)      min: -123.70000  max:  150.10000\n",
      "image_metas              shape: (1, 10)               min:    0.00000  max:  288.00000\n",
      "Processing 1 images\n",
      "image                    shape: (520, 348, 3)         min:   70.00000  max:  253.00000\n",
      "molded_images            shape: (1, 320, 320, 3)      min: -123.70000  max:  149.10000\n",
      "image_metas              shape: (1, 10)               min:    0.00000  max:  520.00000\n"
     ]
    },
    {
     "name": "stderr",
     "output_type": "stream",
     "text": [
      " 32%|███▏      | 21/65 [00:04<00:09,  4.50it/s]"
     ]
    },
    {
     "name": "stdout",
     "output_type": "stream",
     "text": [
      "Processing 1 images\n",
      "image                    shape: (512, 640, 3)         min:    0.00000  max:  255.00000\n",
      "molded_images            shape: (1, 320, 320, 3)      min: -123.70000  max:  150.10000\n",
      "image_metas              shape: (1, 10)               min:    0.00000  max:  640.00000\n",
      "Processing 1 images\n",
      "image                    shape: (256, 256, 3)         min:    1.00000  max:  246.00000\n",
      "molded_images            shape: (1, 320, 320, 3)      min: -123.70000  max:  142.10000\n",
      "image_metas              shape: (1, 10)               min:    0.00000  max:  288.00000\n"
     ]
    },
    {
     "name": "stderr",
     "output_type": "stream",
     "text": [
      " 35%|███▌      | 23/65 [00:04<00:09,  4.65it/s]"
     ]
    },
    {
     "name": "stdout",
     "output_type": "stream",
     "text": [
      "Processing 1 images\n",
      "image                    shape: (519, 161, 3)         min:    1.00000  max:  251.00000\n",
      "molded_images            shape: (1, 320, 320, 3)      min: -123.70000  max:  146.10000\n",
      "image_metas              shape: (1, 10)               min:    0.00000  max:  519.00000\n",
      "Processing 1 images\n",
      "image                    shape: (520, 696, 3)         min:   31.00000  max:  245.00000\n",
      "molded_images            shape: (1, 320, 320, 3)      min: -123.70000  max:  140.10000\n",
      "image_metas              shape: (1, 10)               min:    0.00000  max:  696.00000\n"
     ]
    },
    {
     "name": "stderr",
     "output_type": "stream",
     "text": [
      " 38%|███▊      | 25/65 [00:05<00:08,  4.76it/s]"
     ]
    },
    {
     "name": "stdout",
     "output_type": "stream",
     "text": [
      "Processing 1 images\n",
      "image                    shape: (520, 696, 3)         min:   26.00000  max:  245.00000\n",
      "molded_images            shape: (1, 320, 320, 3)      min: -123.70000  max:  141.10000\n",
      "image_metas              shape: (1, 10)               min:    0.00000  max:  696.00000\n",
      "Processing 1 images\n",
      "image                    shape: (519, 161, 3)         min:    0.00000  max:  255.00000\n",
      "molded_images            shape: (1, 320, 320, 3)      min: -123.70000  max:  151.10000\n",
      "image_metas              shape: (1, 10)               min:    0.00000  max:  519.00000\n"
     ]
    },
    {
     "name": "stderr",
     "output_type": "stream",
     "text": [
      " 42%|████▏     | 27/65 [00:05<00:07,  4.87it/s]"
     ]
    },
    {
     "name": "stdout",
     "output_type": "stream",
     "text": [
      "Processing 1 images\n",
      "image                    shape: (520, 348, 3)         min:    0.00000  max:  255.00000\n",
      "molded_images            shape: (1, 320, 320, 3)      min: -123.70000  max:  151.10000\n",
      "image_metas              shape: (1, 10)               min:    0.00000  max:  520.00000\n",
      "Processing 1 images\n",
      "image                    shape: (256, 256, 3)         min:   64.00000  max:  248.00000\n",
      "molded_images            shape: (1, 320, 320, 3)      min: -123.70000  max:  144.10000\n",
      "image_metas              shape: (1, 10)               min:    0.00000  max:  288.00000\n",
      "Processing 1 images\n",
      "image                    shape: (512, 680, 3)         min:    0.00000  max:  255.00000\n",
      "molded_images            shape: (1, 320, 320, 3)      min: -123.70000  max:  139.10000\n",
      "image_metas              shape: (1, 10)               min:    0.00000  max:  680.00000\n"
     ]
    },
    {
     "name": "stderr",
     "output_type": "stream",
     "text": [
      " 46%|████▌     | 30/65 [00:06<00:07,  4.85it/s]"
     ]
    },
    {
     "name": "stdout",
     "output_type": "stream",
     "text": [
      "Processing 1 images\n",
      "image                    shape: (260, 347, 3)         min:    0.00000  max:  255.00000\n",
      "molded_images            shape: (1, 320, 320, 3)      min: -123.70000  max:  143.10000\n",
      "image_metas              shape: (1, 10)               min:    0.00000  max:  347.00000\n",
      "Processing 1 images\n",
      "image                    shape: (256, 256, 3)         min:  174.00000  max:  255.00000\n",
      "molded_images            shape: (1, 320, 320, 3)      min: -123.70000  max:  151.10000\n",
      "image_metas              shape: (1, 10)               min:    0.00000  max:  288.00000\n"
     ]
    },
    {
     "name": "stderr",
     "output_type": "stream",
     "text": [
      "\r",
      " 49%|████▉     | 32/65 [00:06<00:06,  5.01it/s]"
     ]
    },
    {
     "name": "stdout",
     "output_type": "stream",
     "text": [
      "Processing 1 images\n",
      "image                    shape: (519, 253, 3)         min:   31.00000  max:  246.00000\n",
      "molded_images            shape: (1, 320, 320, 3)      min: -123.70000  max:  142.10000\n",
      "image_metas              shape: (1, 10)               min:    0.00000  max:  519.00000\n",
      "Processing 1 images\n",
      "image                    shape: (520, 696, 3)         min:   34.00000  max:  245.00000\n",
      "molded_images            shape: (1, 320, 320, 3)      min: -123.70000  max:  140.10000\n",
      "image_metas              shape: (1, 10)               min:    0.00000  max:  696.00000\n"
     ]
    },
    {
     "name": "stderr",
     "output_type": "stream",
     "text": [
      " 52%|█████▏    | 34/65 [00:06<00:06,  5.08it/s]"
     ]
    },
    {
     "name": "stdout",
     "output_type": "stream",
     "text": [
      "Processing 1 images\n",
      "image                    shape: (512, 680, 3)         min:    0.00000  max:  255.00000\n",
      "molded_images            shape: (1, 320, 320, 3)      min: -123.70000  max:  141.10000\n",
      "image_metas              shape: (1, 10)               min:    0.00000  max:  680.00000\n",
      "Processing 1 images\n",
      "image                    shape: (256, 256, 3)         min:    0.00000  max:  255.00000\n",
      "molded_images            shape: (1, 320, 320, 3)      min: -123.70000  max:  151.10000\n",
      "image_metas              shape: (1, 10)               min:    0.00000  max:  288.00000\n"
     ]
    },
    {
     "name": "stderr",
     "output_type": "stream",
     "text": [
      "\r",
      " 55%|█████▌    | 36/65 [00:06<00:05,  5.21it/s]"
     ]
    },
    {
     "name": "stdout",
     "output_type": "stream",
     "text": [
      "Processing 1 images\n",
      "image                    shape: (512, 640, 3)         min:    0.00000  max:  255.00000\n",
      "molded_images            shape: (1, 320, 320, 3)      min: -123.70000  max:  151.10000\n",
      "image_metas              shape: (1, 10)               min:    0.00000  max:  640.00000\n",
      "Processing 1 images\n",
      "image                    shape: (519, 162, 3)         min:    1.00000  max:  253.00000\n",
      "molded_images            shape: (1, 320, 320, 3)      min: -123.70000  max:  147.10000\n",
      "image_metas              shape: (1, 10)               min:    0.00000  max:  519.00000\n"
     ]
    },
    {
     "name": "stderr",
     "output_type": "stream",
     "text": [
      "\r",
      " 57%|█████▋    | 37/65 [00:07<00:05,  5.25it/s]"
     ]
    },
    {
     "name": "stdout",
     "output_type": "stream",
     "text": [
      "Processing 1 images\n",
      "image                    shape: (524, 348, 3)         min:    0.00000  max:  255.00000\n",
      "molded_images            shape: (1, 320, 320, 3)      min: -123.70000  max:  144.10000\n",
      "image_metas              shape: (1, 10)               min:    0.00000  max:  524.00000\n"
     ]
    },
    {
     "name": "stderr",
     "output_type": "stream",
     "text": [
      " 60%|██████    | 39/65 [00:07<00:04,  5.22it/s]"
     ]
    },
    {
     "name": "stdout",
     "output_type": "stream",
     "text": [
      "Processing 1 images\n",
      "image                    shape: (260, 347, 3)         min:    1.00000  max:  254.00000\n",
      "molded_images            shape: (1, 320, 320, 3)      min: -123.70000  max:  147.10000\n",
      "image_metas              shape: (1, 10)               min:    0.00000  max:  347.00000\n",
      "Processing 1 images\n",
      "image                    shape: (524, 348, 3)         min:    0.00000  max:  255.00000\n",
      "molded_images            shape: (1, 320, 320, 3)      min: -123.70000  max:  143.10000\n",
      "image_metas              shape: (1, 10)               min:    0.00000  max:  524.00000\n"
     ]
    },
    {
     "name": "stderr",
     "output_type": "stream",
     "text": [
      "\r",
      " 62%|██████▏   | 40/65 [00:07<00:04,  5.20it/s]"
     ]
    },
    {
     "name": "stdout",
     "output_type": "stream",
     "text": [
      "Processing 1 images\n",
      "image                    shape: (256, 256, 3)         min:    0.00000  max:  255.00000\n",
      "molded_images            shape: (1, 320, 320, 3)      min: -123.70000  max:  151.10000\n",
      "image_metas              shape: (1, 10)               min:    0.00000  max:  288.00000\n",
      "Processing 1 images\n",
      "image                    shape: (512, 640, 3)         min:  103.00000  max:  255.00000\n",
      "molded_images            shape: (1, 320, 320, 3)      min: -123.70000  max:  149.10000\n",
      "image_metas              shape: (1, 10)               min:    0.00000  max:  640.00000\n"
     ]
    },
    {
     "name": "stderr",
     "output_type": "stream",
     "text": [
      " 66%|██████▌   | 43/65 [00:08<00:04,  5.29it/s]"
     ]
    },
    {
     "name": "stdout",
     "output_type": "stream",
     "text": [
      "Processing 1 images\n",
      "image                    shape: (512, 680, 3)         min:    0.00000  max:  255.00000\n",
      "molded_images            shape: (1, 320, 320, 3)      min: -123.70000  max:  140.10000\n",
      "image_metas              shape: (1, 10)               min:    0.00000  max:  680.00000\n",
      "Processing 1 images\n",
      "image                    shape: (256, 256, 3)         min:    0.00000  max:  254.00000\n",
      "molded_images            shape: (1, 320, 320, 3)      min: -123.70000  max:  150.10000\n",
      "image_metas              shape: (1, 10)               min:    0.00000  max:  288.00000\n"
     ]
    },
    {
     "name": "stderr",
     "output_type": "stream",
     "text": [
      "\r",
      " 68%|██████▊   | 44/65 [00:08<00:03,  5.35it/s]"
     ]
    },
    {
     "name": "stdout",
     "output_type": "stream",
     "text": [
      "Processing 1 images\n",
      "image                    shape: (512, 680, 3)         min:    0.00000  max:  255.00000\n",
      "molded_images            shape: (1, 320, 320, 3)      min: -123.70000  max:  139.10000\n",
      "image_metas              shape: (1, 10)               min:    0.00000  max:  680.00000\n"
     ]
    },
    {
     "name": "stderr",
     "output_type": "stream",
     "text": [
      " 71%|███████   | 46/65 [00:08<00:03,  5.24it/s]"
     ]
    },
    {
     "name": "stdout",
     "output_type": "stream",
     "text": [
      "Processing 1 images\n",
      "image                    shape: (519, 253, 3)         min:   45.00000  max:  245.00000\n",
      "molded_images            shape: (1, 320, 320, 3)      min: -123.70000  max:  141.10000\n",
      "image_metas              shape: (1, 10)               min:    0.00000  max:  519.00000\n",
      "Processing 1 images\n",
      "image                    shape: (512, 640, 3)         min:    0.00000  max:  255.00000\n",
      "molded_images            shape: (1, 320, 320, 3)      min: -123.70000  max:  151.10000\n",
      "image_metas              shape: (1, 10)               min:    0.00000  max:  640.00000\n"
     ]
    },
    {
     "name": "stderr",
     "output_type": "stream",
     "text": [
      " 74%|███████▍  | 48/65 [00:09<00:03,  5.33it/s]"
     ]
    },
    {
     "name": "stdout",
     "output_type": "stream",
     "text": [
      "Processing 1 images\n",
      "image                    shape: (512, 640, 3)         min:    0.00000  max:  255.00000\n",
      "molded_images            shape: (1, 320, 320, 3)      min: -123.70000  max:  151.10000\n",
      "image_metas              shape: (1, 10)               min:    0.00000  max:  640.00000\n",
      "Processing 1 images\n",
      "image                    shape: (520, 348, 3)         min:    1.00000  max:  251.00000\n",
      "molded_images            shape: (1, 320, 320, 3)      min: -123.70000  max:  147.10000\n",
      "image_metas              shape: (1, 10)               min:    0.00000  max:  520.00000\n"
     ]
    },
    {
     "name": "stderr",
     "output_type": "stream",
     "text": [
      "\r",
      " 75%|███████▌  | 49/65 [00:09<00:03,  5.30it/s]"
     ]
    },
    {
     "name": "stdout",
     "output_type": "stream",
     "text": [
      "Processing 1 images\n",
      "image                    shape: (512, 680, 3)         min:    0.00000  max:  255.00000\n",
      "molded_images            shape: (1, 320, 320, 3)      min: -123.70000  max:  144.10000\n",
      "image_metas              shape: (1, 10)               min:    0.00000  max:  680.00000\n"
     ]
    },
    {
     "name": "stderr",
     "output_type": "stream",
     "text": [
      " 78%|███████▊  | 51/65 [00:09<00:02,  5.31it/s]"
     ]
    },
    {
     "name": "stdout",
     "output_type": "stream",
     "text": [
      "Processing 1 images\n",
      "image                    shape: (256, 256, 3)         min:    0.00000  max:  254.00000\n",
      "molded_images            shape: (1, 320, 320, 3)      min: -123.70000  max:  150.10000\n",
      "image_metas              shape: (1, 10)               min:    0.00000  max:  288.00000\n",
      "Processing 1 images\n",
      "image                    shape: (519, 253, 3)         min:  155.00000  max:  247.00000\n",
      "molded_images            shape: (1, 320, 320, 3)      min: -123.70000  max:  142.10000\n",
      "image_metas              shape: (1, 10)               min:    0.00000  max:  519.00000\n"
     ]
    },
    {
     "name": "stderr",
     "output_type": "stream",
     "text": [
      "\r",
      " 80%|████████  | 52/65 [00:09<00:02,  5.34it/s]"
     ]
    },
    {
     "name": "stdout",
     "output_type": "stream",
     "text": [
      "Processing 1 images\n",
      "image                    shape: (512, 680, 3)         min:    0.00000  max:  255.00000\n",
      "molded_images            shape: (1, 320, 320, 3)      min: -123.70000  max:  147.10000\n",
      "image_metas              shape: (1, 10)               min:    0.00000  max:  680.00000\n"
     ]
    },
    {
     "name": "stderr",
     "output_type": "stream",
     "text": [
      "\r",
      " 82%|████████▏ | 53/65 [00:10<00:02,  5.24it/s]"
     ]
    },
    {
     "name": "stdout",
     "output_type": "stream",
     "text": [
      "Processing 1 images\n",
      "image                    shape: (256, 256, 3)         min:    1.00000  max:  247.00000\n",
      "molded_images            shape: (1, 320, 320, 3)      min: -123.70000  max:  143.10000\n",
      "image_metas              shape: (1, 10)               min:    0.00000  max:  288.00000\n",
      "Processing 1 images\n",
      "image                    shape: (512, 680, 3)         min:    0.00000  max:  255.00000\n",
      "molded_images            shape: (1, 320, 320, 3)      min: -123.70000  max:  136.20000\n",
      "image_metas              shape: (1, 10)               min:    0.00000  max:  680.00000\n"
     ]
    },
    {
     "name": "stderr",
     "output_type": "stream",
     "text": [
      "\r",
      " 85%|████████▍ | 55/65 [00:10<00:01,  5.31it/s]"
     ]
    },
    {
     "name": "stdout",
     "output_type": "stream",
     "text": [
      "Processing 1 images\n",
      "image                    shape: (256, 256, 3)         min:    1.00000  max:  246.00000\n",
      "molded_images            shape: (1, 320, 320, 3)      min: -123.70000  max:  142.10000\n",
      "image_metas              shape: (1, 10)               min:    0.00000  max:  288.00000\n",
      "Processing 1 images\n",
      "image                    shape: (520, 696, 3)         min:   19.00000  max:  246.00000\n",
      "molded_images            shape: (1, 320, 320, 3)      min: -123.70000  max:  141.10000\n",
      "image_metas              shape: (1, 10)               min:    0.00000  max:  696.00000\n"
     ]
    },
    {
     "name": "stderr",
     "output_type": "stream",
     "text": [
      " 89%|████████▉ | 58/65 [00:10<00:01,  5.40it/s]"
     ]
    },
    {
     "name": "stdout",
     "output_type": "stream",
     "text": [
      "Processing 1 images\n",
      "image                    shape: (256, 256, 3)         min:    0.00000  max:  255.00000\n",
      "molded_images            shape: (1, 320, 320, 3)      min: -123.70000  max:  151.10000\n",
      "image_metas              shape: (1, 10)               min:    0.00000  max:  288.00000\n",
      "Processing 1 images\n",
      "image                    shape: (256, 256, 3)         min:    1.00000  max:  246.00000\n",
      "molded_images            shape: (1, 320, 320, 3)      min: -123.70000  max:  142.10000\n",
      "image_metas              shape: (1, 10)               min:    0.00000  max:  288.00000\n"
     ]
    },
    {
     "name": "stderr",
     "output_type": "stream",
     "text": [
      "\r",
      " 91%|█████████ | 59/65 [00:10<00:01,  5.44it/s]"
     ]
    },
    {
     "name": "stdout",
     "output_type": "stream",
     "text": [
      "Processing 1 images\n",
      "image                    shape: (256, 256, 3)         min:    1.00000  max:  247.00000\n",
      "molded_images            shape: (1, 320, 320, 3)      min: -123.70000  max:  143.10000\n",
      "image_metas              shape: (1, 10)               min:    0.00000  max:  288.00000\n",
      "Processing 1 images\n",
      "image                    shape: (260, 347, 3)         min:    1.00000  max:  228.00000\n",
      "molded_images            shape: (1, 320, 320, 3)      min: -123.70000  max:  123.10000\n",
      "image_metas              shape: (1, 10)               min:    0.00000  max:  347.00000\n"
     ]
    },
    {
     "name": "stderr",
     "output_type": "stream",
     "text": [
      " 95%|█████████▌| 62/65 [00:11<00:00,  5.51it/s]"
     ]
    },
    {
     "name": "stdout",
     "output_type": "stream",
     "text": [
      "Processing 1 images\n",
      "image                    shape: (519, 253, 3)         min:   14.00000  max:  245.00000\n",
      "molded_images            shape: (1, 320, 320, 3)      min: -123.70000  max:  140.10000\n",
      "image_metas              shape: (1, 10)               min:    0.00000  max:  519.00000\n",
      "Processing 1 images\n",
      "image                    shape: (256, 256, 3)         min:  161.00000  max:  255.00000\n",
      "molded_images            shape: (1, 320, 320, 3)      min: -123.70000  max:  151.10000\n",
      "image_metas              shape: (1, 10)               min:    0.00000  max:  288.00000\n"
     ]
    },
    {
     "name": "stderr",
     "output_type": "stream",
     "text": [
      "\r",
      " 98%|█████████▊| 64/65 [00:11<00:00,  5.59it/s]"
     ]
    },
    {
     "name": "stdout",
     "output_type": "stream",
     "text": [
      "Processing 1 images\n",
      "image                    shape: (256, 256, 3)         min:    1.00000  max:  247.00000\n",
      "molded_images            shape: (1, 320, 320, 3)      min: -123.70000  max:  143.10000\n",
      "image_metas              shape: (1, 10)               min:    0.00000  max:  288.00000\n",
      "Processing 1 images\n",
      "image                    shape: (256, 256, 3)         min:    1.00000  max:  247.00000\n",
      "molded_images            shape: (1, 320, 320, 3)      min: -123.70000  max:  143.10000\n",
      "image_metas              shape: (1, 10)               min:    0.00000  max:  288.00000\n"
     ]
    },
    {
     "name": "stderr",
     "output_type": "stream",
     "text": [
      "100%|██████████| 65/65 [00:11<00:00,  5.61it/s]\n"
     ]
    }
   ],
   "source": [
    "results = []\n",
    "for ids in tqdm(test_ids):\n",
    "    test_img = imread(TEST_PATH + ids + \"/images/\" +ids + \".png\")[:, :, :3]\n",
    "    org_shape = test_img.shape\n",
    "    r = model.detect([test_img*255], verbose=1)\n",
    "    r[0][\"ids\"] = ids\n",
    "    results.append(r[0])"
   ]
  },
  {
   "cell_type": "code",
   "execution_count": 7,
   "metadata": {
    "collapsed": true
   },
   "outputs": [],
   "source": [
    "def rle_encoding(x):\n",
    "    '''\n",
    "    x: numpy array of shape (height, width), 1 - mask, 0 - background\n",
    "    Returns run length as list\n",
    "    '''\n",
    "    dots = np.where(x.T.flatten()==1)[0] # .T sets Fortran order down-then-right\n",
    "    run_lengths = []\n",
    "    prev = -2\n",
    "    for b in dots:\n",
    "        if (b>prev+1): run_lengths.extend((b+1, 0))\n",
    "        run_lengths[-1] += 1\n",
    "        prev = b\n",
    "    return run_lengths\n",
    "\n",
    "def prob_to_rles(x, cut_off = 0.5):\n",
    "    lab_img = label(x>cut_off)\n",
    "    if lab_img.max()<1:\n",
    "        # ensure at least one prediction per image\n",
    "        lab_img[0,0] = 1\n",
    "    for i in range(1, lab_img.max()+1):\n",
    "        yield rle_encoding(lab_img==i)"
   ]
  },
  {
   "cell_type": "code",
   "execution_count": 8,
   "metadata": {
    "collapsed": false
   },
   "outputs": [
    {
     "data": {
      "text/html": [
       "<div>\n",
       "<table border=\"1\" class=\"dataframe\">\n",
       "  <thead>\n",
       "    <tr style=\"text-align: right;\">\n",
       "      <th></th>\n",
       "      <th>EncodedPixels</th>\n",
       "      <th>ImageId</th>\n",
       "    </tr>\n",
       "  </thead>\n",
       "  <tbody>\n",
       "    <tr>\n",
       "      <th>621</th>\n",
       "      <td>60223 5 60478 7 60733 8 60988 9 61244 9 61500 ...</td>\n",
       "      <td>912a679e4b9b1d1a75170254fd675b8c24b664d80ad7ea...</td>\n",
       "    </tr>\n",
       "    <tr>\n",
       "      <th>1219</th>\n",
       "      <td>52669 3 52926 7 53183 10 53441 12 53700 13 539...</td>\n",
       "      <td>43a71aeb641faa18742cb826772a8566c6c947d7050f9a...</td>\n",
       "    </tr>\n",
       "    <tr>\n",
       "      <th>1776</th>\n",
       "      <td>12124 5 12635 8 13147 9 13659 11 14172 12 1468...</td>\n",
       "      <td>17b9bf4356db24967c4677b8376ac38f826de73a88b93a...</td>\n",
       "    </tr>\n",
       "  </tbody>\n",
       "</table>\n",
       "</div>"
      ],
      "text/plain": [
       "                                          EncodedPixels  \\\n",
       "621   60223 5 60478 7 60733 8 60988 9 61244 9 61500 ...   \n",
       "1219  52669 3 52926 7 53183 10 53441 12 53700 13 539...   \n",
       "1776  12124 5 12635 8 13147 9 13659 11 14172 12 1468...   \n",
       "\n",
       "                                                ImageId  \n",
       "621   912a679e4b9b1d1a75170254fd675b8c24b664d80ad7ea...  \n",
       "1219  43a71aeb641faa18742cb826772a8566c6c947d7050f9a...  \n",
       "1776  17b9bf4356db24967c4677b8376ac38f826de73a88b93a...  "
      ]
     },
     "execution_count": 8,
     "metadata": {},
     "output_type": "execute_result"
    }
   ],
   "source": [
    "out_pred_list = []\n",
    "for r in results:\n",
    "    counts = len(r[\"scores\"])\n",
    "    if counts == 0:\n",
    "        out_pred_list+=[dict(ImageId=r[\"ids\"], EncodedPixels = 0)]\n",
    "    for i in range(counts):\n",
    "        enc = rle_encoding(r[\"masks\"][:, :, i])\n",
    "        out_pred_list+=[dict(ImageId=r[\"ids\"], EncodedPixels = ' '.join(np.array(enc).astype(str)))]\n",
    "out_pred_df = pd.DataFrame(out_pred_list)\n",
    "out_pred_df.sample(3)"
   ]
  },
  {
   "cell_type": "code",
   "execution_count": 9,
   "metadata": {
    "collapsed": true
   },
   "outputs": [],
   "source": [
    "out_pred_df[['ImageId', 'EncodedPixels']].to_csv('predictions.csv', index = False)"
   ]
  },
  {
   "cell_type": "code",
   "execution_count": 10,
   "metadata": {
    "collapsed": false
   },
   "outputs": [
    {
     "data": {
      "text/plain": [
       "65"
      ]
     },
     "execution_count": 10,
     "metadata": {},
     "output_type": "execute_result"
    }
   ],
   "source": [
    "len(np.unique(out_pred_df.ImageId))"
   ]
  }
 ],
 "metadata": {
  "kernelspec": {
   "display_name": "Python 3",
   "language": "python",
   "name": "python3"
  },
  "language_info": {
   "codemirror_mode": {
    "name": "ipython",
    "version": 3
   },
   "file_extension": ".py",
   "mimetype": "text/x-python",
   "name": "python",
   "nbconvert_exporter": "python",
   "pygments_lexer": "ipython3",
   "version": "3.6.3"
  }
 },
 "nbformat": 4,
 "nbformat_minor": 2
}
