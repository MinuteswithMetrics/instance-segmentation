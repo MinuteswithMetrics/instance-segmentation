{
 "cells": [
  {
   "cell_type": "code",
   "execution_count": 1,
   "metadata": {},
   "outputs": [],
   "source": [
    "import pandas as pd\n",
    "import numpy as np"
   ]
  },
  {
   "cell_type": "code",
   "execution_count": 2,
   "metadata": {},
   "outputs": [],
   "source": [
    "hegns_df = pd.read_csv(\"./submit/submission-gray53-only-0.419.csv\").dropna()\n",
    "cluster_df = pd.read_csv(\"../dataset/DSB/share_test_df.csv\")\n",
    "all_df = pd.read_csv(\"./submit/LB442_epoch35_coco.csv\")\n",
    "hegns_id = np.unique(hegns_df[[\"ImageId\"]])\n",
    "color_id = [row[\"img_id\"] for i, row in cluster_df.iterrows() if not row[\"HSV_CLUSTER\"] == 1]\n",
    "gray_id = [row[\"img_id\"] for i, row in cluster_df.iterrows() if row[\"HSV_CLUSTER\"] == 1]"
   ]
  },
  {
   "cell_type": "code",
   "execution_count": 3,
   "metadata": {},
   "outputs": [],
   "source": [
    "color_only = pd.DataFrame(columns=[\"ImageId\", \"EncodedPixels\"])\n",
    "for i, row in all_df.iterrows():\n",
    "    if not row[\"ImageId\"] in hegns_id:\n",
    "        color_only = color_only.append(row)"
   ]
  },
  {
   "cell_type": "code",
   "execution_count": 5,
   "metadata": {},
   "outputs": [],
   "source": [
    "hegns_only = pd.DataFrame(columns=[\"ImageId\", \"EncodedPixels\"])\n",
    "for i, row in hegns_df.iterrows():\n",
    "    hegns_only = hegns_only.append(row)"
   ]
  },
  {
   "cell_type": "code",
   "execution_count": 9,
   "metadata": {},
   "outputs": [],
   "source": [
    "submit_df = pd.concat([color_only, hegns_only])"
   ]
  },
  {
   "cell_type": "code",
   "execution_count": 13,
   "metadata": {},
   "outputs": [],
   "source": [
    "submit_df.to_csv(\"./submit/LB442_epoch35_coco_and_LB419_hegns_gray.csv\", index=False, columns=['ImageId', 'EncodedPixels'])"
   ]
  }
 ],
 "metadata": {
  "kernelspec": {
   "display_name": "Python 3",
   "language": "python",
   "name": "python3"
  },
  "language_info": {
   "codemirror_mode": {
    "name": "ipython",
    "version": 3
   },
   "file_extension": ".py",
   "mimetype": "text/x-python",
   "name": "python",
   "nbconvert_exporter": "python",
   "pygments_lexer": "ipython3",
   "version": "3.6.3"
  }
 },
 "nbformat": 4,
 "nbformat_minor": 2
}
