{
 "cells": [
  {
   "cell_type": "code",
   "execution_count": 1,
   "metadata": {},
   "outputs": [],
   "source": [
    "import pandas as pd\n",
    "import numpy as np"
   ]
  },
  {
   "cell_type": "code",
   "execution_count": 2,
   "metadata": {},
   "outputs": [],
   "source": [
    "color_csv = \"./submit/lr1e-3color-512/LB046_20.csv\"\n",
    "gray_csv = \"./submit/lr1e-3gray-512/\"\n",
    "output_name = \"./submit/LB046_20_color-\""
   ]
  },
  {
   "cell_type": "code",
   "execution_count": 3,
   "metadata": {},
   "outputs": [],
   "source": [
    "cluster_df = pd.read_csv(\"../dataset/DSB/share_test_df.csv\")\n",
    "color_id = [row[\"img_id\"] for i, row in cluster_df.iterrows() if not row[\"HSV_CLUSTER\"] == 1]\n",
    "gray_id = [row[\"img_id\"] for i, row in cluster_df.iterrows() if row[\"HSV_CLUSTER\"] == 1]\n",
    "\n",
    "color_df = pd.read_csv(color_csv)\n",
    "color_df = color_df.dropna()\n",
    "\n",
    "gray_df = pd.read_csv(gray_csv)\n",
    "gray_df = gray_df.dropna()\n",
    "\n",
    "hegns_df = pd.read_csv(\"./submit/gray/submission-gray53-only-0.419.csv\").dropna()\n",
    "hegns_id = np.unique(hegns_df[[\"ImageId\"]])"
   ]
  },
  {
   "cell_type": "code",
   "execution_count": 6,
   "metadata": {},
   "outputs": [],
   "source": [
    "gray_df = gray_df[[True if row.ImageId in gray_id else False for i, row in gray_df.iterrows()]]\n",
    "color_df = color_df[[True if row.ImageId in color_id else False for i, row in color_df.iterrows()]]"
   ]
  },
  {
   "cell_type": "code",
   "execution_count": 7,
   "metadata": {},
   "outputs": [],
   "source": [
    "submit_df = pd.concat([gray_df, color_df])\n",
    "submit_df.to_csv(output_name, index=False, columns=['ImageId', 'EncodedPixels'])\n",
    "len(np.unique(submit_df.ImageId))"
   ]
  }
 ],
 "metadata": {
  "kernelspec": {
   "display_name": "Python 3",
   "language": "python",
   "name": "python3"
  },
  "language_info": {
   "codemirror_mode": {
    "name": "ipython",
    "version": 3
   },
   "file_extension": ".py",
   "mimetype": "text/x-python",
   "name": "python",
   "nbconvert_exporter": "python",
   "pygments_lexer": "ipython3",
   "version": "3.6.3"
  }
 },
 "nbformat": 4,
 "nbformat_minor": 2
}
