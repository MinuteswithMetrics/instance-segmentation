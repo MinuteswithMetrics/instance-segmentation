{
 "cells": [
  {
   "cell_type": "code",
   "execution_count": 1,
   "metadata": {},
   "outputs": [],
   "source": [
    "import os\n",
    "import numpy as np\n",
    "import pandas as pf\n",
    "from skimage.io import imread\n",
    "from scipy.misc import imresize\n",
    "import re\n",
    "from glob import glob\n",
    "from tqdm import tqdm\n",
    "\n",
    "import matplotlib.pyplot as plt\n",
    "%matplotlib inline"
   ]
  },
  {
   "cell_type": "code",
   "execution_count": 2,
   "metadata": {},
   "outputs": [],
   "source": [
    "train_base_path = \"../dataset/DSB/train_all\"\n",
    "train_ids = next(os.walk(train_base_path))[1]"
   ]
  },
  {
   "cell_type": "code",
   "execution_count": 3,
   "metadata": {},
   "outputs": [],
   "source": [
    "def get_masks(base_path):\n",
    "    masks = dict()\n",
    "    id_extractor = re.compile(f\"{base_path}\\{os.sep}(?P<image_id>.*)\\{os.sep}masks\\{os.sep}(?P<mask_id>.*)\\.png\")\n",
    "    for mask_path in glob(os.path.join(base_path, \"**\", \"masks\", \"*.png\")):\n",
    "        matches = id_extractor.match(mask_path)\n",
    "\n",
    "        image_id = matches.group(\"image_id\")\n",
    "        image_file = os.listdir(os.path.join(base_path, image_id, \"images\"))[0]\n",
    "        image_path = os.path.join(base_path, image_id, \"images\", image_file)\n",
    "\n",
    "        if image_id in masks:\n",
    "            masks[image_id].append(mask_path)\n",
    "        else:\n",
    "            masks[image_id] = [mask_path]\n",
    "    return masks"
   ]
  },
  {
   "cell_type": "code",
   "execution_count": 4,
   "metadata": {},
   "outputs": [],
   "source": [
    "def get_cell_pixels(masks):\n",
    "    pixels = 0\n",
    "    cell_num = 0\n",
    "    for mask_path in masks:\n",
    "        mask = imread(mask_path)\n",
    "        pixels += len(np.where(mask == 255)[0])\n",
    "    mean_cell = pixels/len(masks)\n",
    "    return mean_cell"
   ]
  },
  {
   "cell_type": "code",
   "execution_count": 5,
   "metadata": {},
   "outputs": [],
   "source": [
    "def get_mean_cell(ids, masks):\n",
    "    mask_pixels = dict()\n",
    "    all_cell_pixels = 0\n",
    "    for id in tqdm(ids):\n",
    "        mask_pixels[id] = get_cell_pixels(masks[id])\n",
    "        all_cell_pixels += mask_pixels[id]\n",
    "    mean_cell = all_cell_pixels/len(ids)\n",
    "    return mean_cell, mask_pixels"
   ]
  },
  {
   "cell_type": "code",
   "execution_count": 6,
   "metadata": {},
   "outputs": [
    {
     "name": "stderr",
     "output_type": "stream",
     "text": [
      "100%|██████████| 694/694 [04:46<00:00,  2.42it/s]\n"
     ]
    }
   ],
   "source": [
    "train_masks = get_masks(train_base_path)\n",
    "train_mean_cell, mask_pixels = get_mean_cell(train_ids, train_masks)"
   ]
  },
  {
   "cell_type": "code",
   "execution_count": 7,
   "metadata": {},
   "outputs": [
    {
     "data": {
      "text/plain": [
       "559.0373166257757"
      ]
     },
     "execution_count": 7,
     "metadata": {},
     "output_type": "execute_result"
    }
   ],
   "source": [
    "train_mean_cell"
   ]
  },
  {
   "cell_type": "code",
   "execution_count": 9,
   "metadata": {},
   "outputs": [
    {
     "data": {
      "text/plain": [
       "1294.4"
      ]
     },
     "execution_count": 9,
     "metadata": {},
     "output_type": "execute_result"
    }
   ],
   "source": [
    "mask_pixels[train_ids[1]]"
   ]
  },
  {
   "cell_type": "code",
   "execution_count": 23,
   "metadata": {},
   "outputs": [
    {
     "data": {
      "text/plain": [
       "(360, 360)"
      ]
     },
     "execution_count": 23,
     "metadata": {},
     "output_type": "execute_result"
    }
   ],
   "source": [
    "tmp = imread(train_masks[train_ids[1]][0])\n",
    "tmp.shape"
   ]
  },
  {
   "cell_type": "code",
   "execution_count": 24,
   "metadata": {},
   "outputs": [
    {
     "name": "stderr",
     "output_type": "stream",
     "text": [
      "/root/.pyenv/versions/anaconda3-4.3.1/lib/python3.6/site-packages/ipykernel/__main__.py:3: DeprecationWarning: `imresize` is deprecated!\n",
      "`imresize` is deprecated in SciPy 1.0.0, and will be removed in 1.2.0.\n",
      "Use ``skimage.transform.resize`` instead.\n",
      "  app.launch_new_instance()\n"
     ]
    }
   ],
   "source": [
    "new_w = int(tmp.shape[1] * (train_mean_cell*2/mask_pixels[train_ids[1]]))\n",
    "new_h = int(tmp.shape[0] * (train_mean_cell*2/mask_pixels[train_ids[1]]))\n",
    "tmp = imresize(tmp, (new_w, new_h))"
   ]
  },
  {
   "cell_type": "code",
   "execution_count": 25,
   "metadata": {},
   "outputs": [
    {
     "data": {
      "text/plain": [
       "(310, 310)"
      ]
     },
     "execution_count": 25,
     "metadata": {},
     "output_type": "execute_result"
    }
   ],
   "source": [
    "tmp.shape"
   ]
  }
 ],
 "metadata": {
  "kernelspec": {
   "display_name": "Python 3",
   "language": "python",
   "name": "python3"
  },
  "language_info": {
   "codemirror_mode": {
    "name": "ipython",
    "version": 3
   },
   "file_extension": ".py",
   "mimetype": "text/x-python",
   "name": "python",
   "nbconvert_exporter": "python",
   "pygments_lexer": "ipython3",
   "version": "3.6.3"
  }
 },
 "nbformat": 4,
 "nbformat_minor": 2
}
